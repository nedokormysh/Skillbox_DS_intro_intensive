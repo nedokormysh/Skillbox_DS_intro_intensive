{
  "nbformat": 4,
  "nbformat_minor": 0,
  "metadata": {
    "colab": {
      "name": "Skillbox_DS_Day_2_29/03/22_my_copy.ipyn\"",
      "provenance": [],
      "collapsed_sections": [],
      "include_colab_link": true
    },
    "kernelspec": {
      "name": "python3",
      "display_name": "Python 3"
    },
    "language_info": {
      "name": "python"
    }
  },
  "cells": [
    {
      "cell_type": "markdown",
      "metadata": {
        "id": "view-in-github",
        "colab_type": "text"
      },
      "source": [
        "<a href=\"https://colab.research.google.com/github/nedokormysh/Skillbox_DS_intro_intensive/blob/main/Skillbox_DS_Day_2_29_03_22_my_copy_ipyn%22.ipynb\" target=\"_parent\"><img src=\"https://colab.research.google.com/assets/colab-badge.svg\" alt=\"Open In Colab\"/></a>"
      ]
    },
    {
      "cell_type": "markdown",
      "source": [
        "# День 2\n",
        "\n",
        "Данные \n",
        "\n",
        "https://drive.google.com/file/d/1Mccq5uUsWbsDlSbmEsMer1U_IkxZXAyr/view?usp=sharing\n",
        "\n",
        "Или\n",
        "\n",
        "https://disk.yandex.com/d/-834NzVzgyKAaw\n",
        "\n",
        "\n",
        "\n",
        "Источник\n",
        "https://www.cryptodatadownload.com/data/bitfinex/"
      ],
      "metadata": {
        "id": "ItqaRSxp1kKy"
      }
    },
    {
      "cell_type": "code",
      "source": [
        "# Сначала — загрузить файл в колаб\n",
        "import zipfile\n",
        "with zipfile.ZipFile(\"/content/BitFinexData.zip\", \"r\") as zipf:\n",
        "  zipf.extractall(\"/content/bitfinex/\")"
      ],
      "metadata": {
        "id": "TSXnFWEyRxKJ"
      },
      "execution_count": null,
      "outputs": []
    },
    {
      "cell_type": "code",
      "source": [
        "# https://github.com/nedokormysh/Skillbox_DS_intro_intensive/blob/main/BitFinexData.zip?raw=true"
      ],
      "metadata": {
        "id": "7CfvTY4XR00J"
      },
      "execution_count": null,
      "outputs": []
    },
    {
      "cell_type": "code",
      "source": [
        "# # Сначала — загрузить файл в колаб\n",
        "# import zipfile\n",
        "# with zipfile.ZipFile(\"https://github.com/nedokormysh/Skillbox_DS_intro_intensive/blob/main/BitFinexData.zip?raw=true\", \"r\") as zipf:\n",
        "#   zipf.extractall(\"/content/bitfinex/\")"
      ],
      "metadata": {
        "id": "ZucmVoxM1niJ"
      },
      "execution_count": null,
      "outputs": []
    },
    {
      "cell_type": "markdown",
      "source": [
        "skiprows = 1 удалит первую строчку"
      ],
      "metadata": {
        "id": "CllBdzVe59DR"
      }
    },
    {
      "cell_type": "code",
      "source": [
        "import pandas as pd\n",
        "pd.read_csv('/content/bitfinex/Bitfinex_BTCUSD_d.csv', skiprows=1)"
      ],
      "metadata": {
        "id": "1-FDg2-o1yoq",
        "colab": {
          "base_uri": "https://localhost:8080/",
          "height": 423
        },
        "outputId": "86524e3f-197b-483b-9b6a-1d2be6d581cd"
      },
      "execution_count": null,
      "outputs": [
        {
          "output_type": "execute_result",
          "data": {
            "text/plain": [
              "               unix                 date   symbol          open          high  \\\n",
              "0     1618272000000  2021-04-13 00:00:00  BTC/USD  59887.000000  60320.623935   \n",
              "1     1618185600000  2021-04-12 00:00:00  BTC/USD  60033.000000  61338.000000   \n",
              "2     1618099200000  2021-04-11 00:00:00  BTC/USD  59817.073785  60722.000000   \n",
              "3     1618012800000  2021-04-10 00:00:00  BTC/USD  58134.090643  61243.000000   \n",
              "4     1617926400000  2021-04-09 00:00:00  BTC/USD  58110.000000  58880.000000   \n",
              "...             ...                  ...      ...           ...           ...   \n",
              "2251     1423785600  2015-02-13 00:00:00  BTC/USD    222.390000    241.760000   \n",
              "2252     1423699200  2015-02-12 00:00:00  BTC/USD    219.190000    223.200000   \n",
              "2253     1423612800  2015-02-11 00:00:00  BTC/USD    220.960000    224.400000   \n",
              "2254     1423526400  2015-02-10 00:00:00  BTC/USD    220.610000    223.880000   \n",
              "2255     1423440000  2015-02-09 00:00:00  BTC/USD    224.220000    225.000000   \n",
              "\n",
              "           low     close    Volume USD    Volume BTC  \n",
              "0     59859.00  60240.00  4.288089e+06     71.183424  \n",
              "1     59492.00  59874.00  3.291828e+08   5497.925195  \n",
              "2     59308.00  60032.00  2.789436e+08   4646.581998  \n",
              "3     57900.00  59812.00  5.858312e+08   9794.542479  \n",
              "4     57713.00  58134.00  2.179731e+08   3749.493697  \n",
              "...        ...       ...           ...           ...  \n",
              "2251    221.46    236.00  6.806973e+06  29079.110000  \n",
              "2252    217.87    222.60  2.468883e+06  11190.650000  \n",
              "2253    218.10    219.19  4.268987e+06  19289.280000  \n",
              "2254    214.00    220.96  6.402351e+06  29268.950000  \n",
              "2255    215.40    220.61  6.493501e+06  29625.030000  \n",
              "\n",
              "[2256 rows x 9 columns]"
            ],
            "text/html": [
              "\n",
              "  <div id=\"df-0effc934-0a02-4ca1-8197-0c2b9ec1e6c4\">\n",
              "    <div class=\"colab-df-container\">\n",
              "      <div>\n",
              "<style scoped>\n",
              "    .dataframe tbody tr th:only-of-type {\n",
              "        vertical-align: middle;\n",
              "    }\n",
              "\n",
              "    .dataframe tbody tr th {\n",
              "        vertical-align: top;\n",
              "    }\n",
              "\n",
              "    .dataframe thead th {\n",
              "        text-align: right;\n",
              "    }\n",
              "</style>\n",
              "<table border=\"1\" class=\"dataframe\">\n",
              "  <thead>\n",
              "    <tr style=\"text-align: right;\">\n",
              "      <th></th>\n",
              "      <th>unix</th>\n",
              "      <th>date</th>\n",
              "      <th>symbol</th>\n",
              "      <th>open</th>\n",
              "      <th>high</th>\n",
              "      <th>low</th>\n",
              "      <th>close</th>\n",
              "      <th>Volume USD</th>\n",
              "      <th>Volume BTC</th>\n",
              "    </tr>\n",
              "  </thead>\n",
              "  <tbody>\n",
              "    <tr>\n",
              "      <th>0</th>\n",
              "      <td>1618272000000</td>\n",
              "      <td>2021-04-13 00:00:00</td>\n",
              "      <td>BTC/USD</td>\n",
              "      <td>59887.000000</td>\n",
              "      <td>60320.623935</td>\n",
              "      <td>59859.00</td>\n",
              "      <td>60240.00</td>\n",
              "      <td>4.288089e+06</td>\n",
              "      <td>71.183424</td>\n",
              "    </tr>\n",
              "    <tr>\n",
              "      <th>1</th>\n",
              "      <td>1618185600000</td>\n",
              "      <td>2021-04-12 00:00:00</td>\n",
              "      <td>BTC/USD</td>\n",
              "      <td>60033.000000</td>\n",
              "      <td>61338.000000</td>\n",
              "      <td>59492.00</td>\n",
              "      <td>59874.00</td>\n",
              "      <td>3.291828e+08</td>\n",
              "      <td>5497.925195</td>\n",
              "    </tr>\n",
              "    <tr>\n",
              "      <th>2</th>\n",
              "      <td>1618099200000</td>\n",
              "      <td>2021-04-11 00:00:00</td>\n",
              "      <td>BTC/USD</td>\n",
              "      <td>59817.073785</td>\n",
              "      <td>60722.000000</td>\n",
              "      <td>59308.00</td>\n",
              "      <td>60032.00</td>\n",
              "      <td>2.789436e+08</td>\n",
              "      <td>4646.581998</td>\n",
              "    </tr>\n",
              "    <tr>\n",
              "      <th>3</th>\n",
              "      <td>1618012800000</td>\n",
              "      <td>2021-04-10 00:00:00</td>\n",
              "      <td>BTC/USD</td>\n",
              "      <td>58134.090643</td>\n",
              "      <td>61243.000000</td>\n",
              "      <td>57900.00</td>\n",
              "      <td>59812.00</td>\n",
              "      <td>5.858312e+08</td>\n",
              "      <td>9794.542479</td>\n",
              "    </tr>\n",
              "    <tr>\n",
              "      <th>4</th>\n",
              "      <td>1617926400000</td>\n",
              "      <td>2021-04-09 00:00:00</td>\n",
              "      <td>BTC/USD</td>\n",
              "      <td>58110.000000</td>\n",
              "      <td>58880.000000</td>\n",
              "      <td>57713.00</td>\n",
              "      <td>58134.00</td>\n",
              "      <td>2.179731e+08</td>\n",
              "      <td>3749.493697</td>\n",
              "    </tr>\n",
              "    <tr>\n",
              "      <th>...</th>\n",
              "      <td>...</td>\n",
              "      <td>...</td>\n",
              "      <td>...</td>\n",
              "      <td>...</td>\n",
              "      <td>...</td>\n",
              "      <td>...</td>\n",
              "      <td>...</td>\n",
              "      <td>...</td>\n",
              "      <td>...</td>\n",
              "    </tr>\n",
              "    <tr>\n",
              "      <th>2251</th>\n",
              "      <td>1423785600</td>\n",
              "      <td>2015-02-13 00:00:00</td>\n",
              "      <td>BTC/USD</td>\n",
              "      <td>222.390000</td>\n",
              "      <td>241.760000</td>\n",
              "      <td>221.46</td>\n",
              "      <td>236.00</td>\n",
              "      <td>6.806973e+06</td>\n",
              "      <td>29079.110000</td>\n",
              "    </tr>\n",
              "    <tr>\n",
              "      <th>2252</th>\n",
              "      <td>1423699200</td>\n",
              "      <td>2015-02-12 00:00:00</td>\n",
              "      <td>BTC/USD</td>\n",
              "      <td>219.190000</td>\n",
              "      <td>223.200000</td>\n",
              "      <td>217.87</td>\n",
              "      <td>222.60</td>\n",
              "      <td>2.468883e+06</td>\n",
              "      <td>11190.650000</td>\n",
              "    </tr>\n",
              "    <tr>\n",
              "      <th>2253</th>\n",
              "      <td>1423612800</td>\n",
              "      <td>2015-02-11 00:00:00</td>\n",
              "      <td>BTC/USD</td>\n",
              "      <td>220.960000</td>\n",
              "      <td>224.400000</td>\n",
              "      <td>218.10</td>\n",
              "      <td>219.19</td>\n",
              "      <td>4.268987e+06</td>\n",
              "      <td>19289.280000</td>\n",
              "    </tr>\n",
              "    <tr>\n",
              "      <th>2254</th>\n",
              "      <td>1423526400</td>\n",
              "      <td>2015-02-10 00:00:00</td>\n",
              "      <td>BTC/USD</td>\n",
              "      <td>220.610000</td>\n",
              "      <td>223.880000</td>\n",
              "      <td>214.00</td>\n",
              "      <td>220.96</td>\n",
              "      <td>6.402351e+06</td>\n",
              "      <td>29268.950000</td>\n",
              "    </tr>\n",
              "    <tr>\n",
              "      <th>2255</th>\n",
              "      <td>1423440000</td>\n",
              "      <td>2015-02-09 00:00:00</td>\n",
              "      <td>BTC/USD</td>\n",
              "      <td>224.220000</td>\n",
              "      <td>225.000000</td>\n",
              "      <td>215.40</td>\n",
              "      <td>220.61</td>\n",
              "      <td>6.493501e+06</td>\n",
              "      <td>29625.030000</td>\n",
              "    </tr>\n",
              "  </tbody>\n",
              "</table>\n",
              "<p>2256 rows × 9 columns</p>\n",
              "</div>\n",
              "      <button class=\"colab-df-convert\" onclick=\"convertToInteractive('df-0effc934-0a02-4ca1-8197-0c2b9ec1e6c4')\"\n",
              "              title=\"Convert this dataframe to an interactive table.\"\n",
              "              style=\"display:none;\">\n",
              "        \n",
              "  <svg xmlns=\"http://www.w3.org/2000/svg\" height=\"24px\"viewBox=\"0 0 24 24\"\n",
              "       width=\"24px\">\n",
              "    <path d=\"M0 0h24v24H0V0z\" fill=\"none\"/>\n",
              "    <path d=\"M18.56 5.44l.94 2.06.94-2.06 2.06-.94-2.06-.94-.94-2.06-.94 2.06-2.06.94zm-11 1L8.5 8.5l.94-2.06 2.06-.94-2.06-.94L8.5 2.5l-.94 2.06-2.06.94zm10 10l.94 2.06.94-2.06 2.06-.94-2.06-.94-.94-2.06-.94 2.06-2.06.94z\"/><path d=\"M17.41 7.96l-1.37-1.37c-.4-.4-.92-.59-1.43-.59-.52 0-1.04.2-1.43.59L10.3 9.45l-7.72 7.72c-.78.78-.78 2.05 0 2.83L4 21.41c.39.39.9.59 1.41.59.51 0 1.02-.2 1.41-.59l7.78-7.78 2.81-2.81c.8-.78.8-2.07 0-2.86zM5.41 20L4 18.59l7.72-7.72 1.47 1.35L5.41 20z\"/>\n",
              "  </svg>\n",
              "      </button>\n",
              "      \n",
              "  <style>\n",
              "    .colab-df-container {\n",
              "      display:flex;\n",
              "      flex-wrap:wrap;\n",
              "      gap: 12px;\n",
              "    }\n",
              "\n",
              "    .colab-df-convert {\n",
              "      background-color: #E8F0FE;\n",
              "      border: none;\n",
              "      border-radius: 50%;\n",
              "      cursor: pointer;\n",
              "      display: none;\n",
              "      fill: #1967D2;\n",
              "      height: 32px;\n",
              "      padding: 0 0 0 0;\n",
              "      width: 32px;\n",
              "    }\n",
              "\n",
              "    .colab-df-convert:hover {\n",
              "      background-color: #E2EBFA;\n",
              "      box-shadow: 0px 1px 2px rgba(60, 64, 67, 0.3), 0px 1px 3px 1px rgba(60, 64, 67, 0.15);\n",
              "      fill: #174EA6;\n",
              "    }\n",
              "\n",
              "    [theme=dark] .colab-df-convert {\n",
              "      background-color: #3B4455;\n",
              "      fill: #D2E3FC;\n",
              "    }\n",
              "\n",
              "    [theme=dark] .colab-df-convert:hover {\n",
              "      background-color: #434B5C;\n",
              "      box-shadow: 0px 1px 3px 1px rgba(0, 0, 0, 0.15);\n",
              "      filter: drop-shadow(0px 1px 2px rgba(0, 0, 0, 0.3));\n",
              "      fill: #FFFFFF;\n",
              "    }\n",
              "  </style>\n",
              "\n",
              "      <script>\n",
              "        const buttonEl =\n",
              "          document.querySelector('#df-0effc934-0a02-4ca1-8197-0c2b9ec1e6c4 button.colab-df-convert');\n",
              "        buttonEl.style.display =\n",
              "          google.colab.kernel.accessAllowed ? 'block' : 'none';\n",
              "\n",
              "        async function convertToInteractive(key) {\n",
              "          const element = document.querySelector('#df-0effc934-0a02-4ca1-8197-0c2b9ec1e6c4');\n",
              "          const dataTable =\n",
              "            await google.colab.kernel.invokeFunction('convertToInteractive',\n",
              "                                                     [key], {});\n",
              "          if (!dataTable) return;\n",
              "\n",
              "          const docLinkHtml = 'Like what you see? Visit the ' +\n",
              "            '<a target=\"_blank\" href=https://colab.research.google.com/notebooks/data_table.ipynb>data table notebook</a>'\n",
              "            + ' to learn more about interactive tables.';\n",
              "          element.innerHTML = '';\n",
              "          dataTable['output_type'] = 'display_data';\n",
              "          await google.colab.output.renderOutput(dataTable, element);\n",
              "          const docLink = document.createElement('div');\n",
              "          docLink.innerHTML = docLinkHtml;\n",
              "          element.appendChild(docLink);\n",
              "        }\n",
              "      </script>\n",
              "    </div>\n",
              "  </div>\n",
              "  "
            ]
          },
          "metadata": {},
          "execution_count": 88
        }
      ]
    },
    {
      "cell_type": "code",
      "source": [
        "bitcoin = pd.read_csv('/content/bitfinex/Bitfinex_BTCUSD_d.csv', skiprows=1)\n",
        "bitcoin.head()"
      ],
      "metadata": {
        "colab": {
          "base_uri": "https://localhost:8080/",
          "height": 206
        },
        "id": "TncXtfLF6CAJ",
        "outputId": "28f9b51c-b0e5-4278-decb-8564b43c2a8b"
      },
      "execution_count": null,
      "outputs": [
        {
          "output_type": "execute_result",
          "data": {
            "text/plain": [
              "            unix                 date   symbol          open          high  \\\n",
              "0  1618272000000  2021-04-13 00:00:00  BTC/USD  59887.000000  60320.623935   \n",
              "1  1618185600000  2021-04-12 00:00:00  BTC/USD  60033.000000  61338.000000   \n",
              "2  1618099200000  2021-04-11 00:00:00  BTC/USD  59817.073785  60722.000000   \n",
              "3  1618012800000  2021-04-10 00:00:00  BTC/USD  58134.090643  61243.000000   \n",
              "4  1617926400000  2021-04-09 00:00:00  BTC/USD  58110.000000  58880.000000   \n",
              "\n",
              "       low    close    Volume USD   Volume BTC  \n",
              "0  59859.0  60240.0  4.288089e+06    71.183424  \n",
              "1  59492.0  59874.0  3.291828e+08  5497.925195  \n",
              "2  59308.0  60032.0  2.789436e+08  4646.581998  \n",
              "3  57900.0  59812.0  5.858312e+08  9794.542479  \n",
              "4  57713.0  58134.0  2.179731e+08  3749.493697  "
            ],
            "text/html": [
              "\n",
              "  <div id=\"df-a19f04b9-51b3-44f6-8db1-09a71f52e5ea\">\n",
              "    <div class=\"colab-df-container\">\n",
              "      <div>\n",
              "<style scoped>\n",
              "    .dataframe tbody tr th:only-of-type {\n",
              "        vertical-align: middle;\n",
              "    }\n",
              "\n",
              "    .dataframe tbody tr th {\n",
              "        vertical-align: top;\n",
              "    }\n",
              "\n",
              "    .dataframe thead th {\n",
              "        text-align: right;\n",
              "    }\n",
              "</style>\n",
              "<table border=\"1\" class=\"dataframe\">\n",
              "  <thead>\n",
              "    <tr style=\"text-align: right;\">\n",
              "      <th></th>\n",
              "      <th>unix</th>\n",
              "      <th>date</th>\n",
              "      <th>symbol</th>\n",
              "      <th>open</th>\n",
              "      <th>high</th>\n",
              "      <th>low</th>\n",
              "      <th>close</th>\n",
              "      <th>Volume USD</th>\n",
              "      <th>Volume BTC</th>\n",
              "    </tr>\n",
              "  </thead>\n",
              "  <tbody>\n",
              "    <tr>\n",
              "      <th>0</th>\n",
              "      <td>1618272000000</td>\n",
              "      <td>2021-04-13 00:00:00</td>\n",
              "      <td>BTC/USD</td>\n",
              "      <td>59887.000000</td>\n",
              "      <td>60320.623935</td>\n",
              "      <td>59859.0</td>\n",
              "      <td>60240.0</td>\n",
              "      <td>4.288089e+06</td>\n",
              "      <td>71.183424</td>\n",
              "    </tr>\n",
              "    <tr>\n",
              "      <th>1</th>\n",
              "      <td>1618185600000</td>\n",
              "      <td>2021-04-12 00:00:00</td>\n",
              "      <td>BTC/USD</td>\n",
              "      <td>60033.000000</td>\n",
              "      <td>61338.000000</td>\n",
              "      <td>59492.0</td>\n",
              "      <td>59874.0</td>\n",
              "      <td>3.291828e+08</td>\n",
              "      <td>5497.925195</td>\n",
              "    </tr>\n",
              "    <tr>\n",
              "      <th>2</th>\n",
              "      <td>1618099200000</td>\n",
              "      <td>2021-04-11 00:00:00</td>\n",
              "      <td>BTC/USD</td>\n",
              "      <td>59817.073785</td>\n",
              "      <td>60722.000000</td>\n",
              "      <td>59308.0</td>\n",
              "      <td>60032.0</td>\n",
              "      <td>2.789436e+08</td>\n",
              "      <td>4646.581998</td>\n",
              "    </tr>\n",
              "    <tr>\n",
              "      <th>3</th>\n",
              "      <td>1618012800000</td>\n",
              "      <td>2021-04-10 00:00:00</td>\n",
              "      <td>BTC/USD</td>\n",
              "      <td>58134.090643</td>\n",
              "      <td>61243.000000</td>\n",
              "      <td>57900.0</td>\n",
              "      <td>59812.0</td>\n",
              "      <td>5.858312e+08</td>\n",
              "      <td>9794.542479</td>\n",
              "    </tr>\n",
              "    <tr>\n",
              "      <th>4</th>\n",
              "      <td>1617926400000</td>\n",
              "      <td>2021-04-09 00:00:00</td>\n",
              "      <td>BTC/USD</td>\n",
              "      <td>58110.000000</td>\n",
              "      <td>58880.000000</td>\n",
              "      <td>57713.0</td>\n",
              "      <td>58134.0</td>\n",
              "      <td>2.179731e+08</td>\n",
              "      <td>3749.493697</td>\n",
              "    </tr>\n",
              "  </tbody>\n",
              "</table>\n",
              "</div>\n",
              "      <button class=\"colab-df-convert\" onclick=\"convertToInteractive('df-a19f04b9-51b3-44f6-8db1-09a71f52e5ea')\"\n",
              "              title=\"Convert this dataframe to an interactive table.\"\n",
              "              style=\"display:none;\">\n",
              "        \n",
              "  <svg xmlns=\"http://www.w3.org/2000/svg\" height=\"24px\"viewBox=\"0 0 24 24\"\n",
              "       width=\"24px\">\n",
              "    <path d=\"M0 0h24v24H0V0z\" fill=\"none\"/>\n",
              "    <path d=\"M18.56 5.44l.94 2.06.94-2.06 2.06-.94-2.06-.94-.94-2.06-.94 2.06-2.06.94zm-11 1L8.5 8.5l.94-2.06 2.06-.94-2.06-.94L8.5 2.5l-.94 2.06-2.06.94zm10 10l.94 2.06.94-2.06 2.06-.94-2.06-.94-.94-2.06-.94 2.06-2.06.94z\"/><path d=\"M17.41 7.96l-1.37-1.37c-.4-.4-.92-.59-1.43-.59-.52 0-1.04.2-1.43.59L10.3 9.45l-7.72 7.72c-.78.78-.78 2.05 0 2.83L4 21.41c.39.39.9.59 1.41.59.51 0 1.02-.2 1.41-.59l7.78-7.78 2.81-2.81c.8-.78.8-2.07 0-2.86zM5.41 20L4 18.59l7.72-7.72 1.47 1.35L5.41 20z\"/>\n",
              "  </svg>\n",
              "      </button>\n",
              "      \n",
              "  <style>\n",
              "    .colab-df-container {\n",
              "      display:flex;\n",
              "      flex-wrap:wrap;\n",
              "      gap: 12px;\n",
              "    }\n",
              "\n",
              "    .colab-df-convert {\n",
              "      background-color: #E8F0FE;\n",
              "      border: none;\n",
              "      border-radius: 50%;\n",
              "      cursor: pointer;\n",
              "      display: none;\n",
              "      fill: #1967D2;\n",
              "      height: 32px;\n",
              "      padding: 0 0 0 0;\n",
              "      width: 32px;\n",
              "    }\n",
              "\n",
              "    .colab-df-convert:hover {\n",
              "      background-color: #E2EBFA;\n",
              "      box-shadow: 0px 1px 2px rgba(60, 64, 67, 0.3), 0px 1px 3px 1px rgba(60, 64, 67, 0.15);\n",
              "      fill: #174EA6;\n",
              "    }\n",
              "\n",
              "    [theme=dark] .colab-df-convert {\n",
              "      background-color: #3B4455;\n",
              "      fill: #D2E3FC;\n",
              "    }\n",
              "\n",
              "    [theme=dark] .colab-df-convert:hover {\n",
              "      background-color: #434B5C;\n",
              "      box-shadow: 0px 1px 3px 1px rgba(0, 0, 0, 0.15);\n",
              "      filter: drop-shadow(0px 1px 2px rgba(0, 0, 0, 0.3));\n",
              "      fill: #FFFFFF;\n",
              "    }\n",
              "  </style>\n",
              "\n",
              "      <script>\n",
              "        const buttonEl =\n",
              "          document.querySelector('#df-a19f04b9-51b3-44f6-8db1-09a71f52e5ea button.colab-df-convert');\n",
              "        buttonEl.style.display =\n",
              "          google.colab.kernel.accessAllowed ? 'block' : 'none';\n",
              "\n",
              "        async function convertToInteractive(key) {\n",
              "          const element = document.querySelector('#df-a19f04b9-51b3-44f6-8db1-09a71f52e5ea');\n",
              "          const dataTable =\n",
              "            await google.colab.kernel.invokeFunction('convertToInteractive',\n",
              "                                                     [key], {});\n",
              "          if (!dataTable) return;\n",
              "\n",
              "          const docLinkHtml = 'Like what you see? Visit the ' +\n",
              "            '<a target=\"_blank\" href=https://colab.research.google.com/notebooks/data_table.ipynb>data table notebook</a>'\n",
              "            + ' to learn more about interactive tables.';\n",
              "          element.innerHTML = '';\n",
              "          dataTable['output_type'] = 'display_data';\n",
              "          await google.colab.output.renderOutput(dataTable, element);\n",
              "          const docLink = document.createElement('div');\n",
              "          docLink.innerHTML = docLinkHtml;\n",
              "          element.appendChild(docLink);\n",
              "        }\n",
              "      </script>\n",
              "    </div>\n",
              "  </div>\n",
              "  "
            ]
          },
          "metadata": {},
          "execution_count": 89
        }
      ]
    },
    {
      "cell_type": "code",
      "source": [
        "bitcoin.describe()"
      ],
      "metadata": {
        "colab": {
          "base_uri": "https://localhost:8080/",
          "height": 300
        },
        "id": "XH9cmbHg6K7W",
        "outputId": "b28b6b8e-2303-45a8-e70d-9841e9ac56b9"
      },
      "execution_count": null,
      "outputs": [
        {
          "output_type": "execute_result",
          "data": {
            "text/plain": [
              "               unix          open          high           low         close  \\\n",
              "count  2.256000e+03   2256.000000   2256.000000   2256.000000   2256.000000   \n",
              "mean   1.929076e+11   7115.664125   7341.591874   6879.407790   7142.245854   \n",
              "std    5.203094e+11  10064.253430  10418.852532   9708.909314  10125.430503   \n",
              "min    1.423440e+09    212.630000    223.200000    162.000000    212.630000   \n",
              "25%    1.472148e+09    630.035000    643.495000    618.022500    631.162500   \n",
              "50%    1.520856e+09   5246.250000   5396.875000   5072.600000   5282.300000   \n",
              "75%    1.569564e+09   9185.175000   9377.875000   8947.450000   9186.475000   \n",
              "max    1.618272e+12  61203.000000  61699.000000  59859.000000  61202.887014   \n",
              "\n",
              "         Volume USD     Volume BTC  \n",
              "count  2.256000e+03    2256.000000  \n",
              "mean   1.215246e+08   20366.374715  \n",
              "std    1.988147e+08   21498.610698  \n",
              "min    0.000000e+00       0.000000  \n",
              "25%    9.853729e+06    6685.973840  \n",
              "50%    4.414414e+07   13150.671761  \n",
              "75%    1.347245e+08   26326.685000  \n",
              "max    2.223208e+09  266768.610000  "
            ],
            "text/html": [
              "\n",
              "  <div id=\"df-7a5f9bd6-aea7-4cf0-8608-de9bc241212b\">\n",
              "    <div class=\"colab-df-container\">\n",
              "      <div>\n",
              "<style scoped>\n",
              "    .dataframe tbody tr th:only-of-type {\n",
              "        vertical-align: middle;\n",
              "    }\n",
              "\n",
              "    .dataframe tbody tr th {\n",
              "        vertical-align: top;\n",
              "    }\n",
              "\n",
              "    .dataframe thead th {\n",
              "        text-align: right;\n",
              "    }\n",
              "</style>\n",
              "<table border=\"1\" class=\"dataframe\">\n",
              "  <thead>\n",
              "    <tr style=\"text-align: right;\">\n",
              "      <th></th>\n",
              "      <th>unix</th>\n",
              "      <th>open</th>\n",
              "      <th>high</th>\n",
              "      <th>low</th>\n",
              "      <th>close</th>\n",
              "      <th>Volume USD</th>\n",
              "      <th>Volume BTC</th>\n",
              "    </tr>\n",
              "  </thead>\n",
              "  <tbody>\n",
              "    <tr>\n",
              "      <th>count</th>\n",
              "      <td>2.256000e+03</td>\n",
              "      <td>2256.000000</td>\n",
              "      <td>2256.000000</td>\n",
              "      <td>2256.000000</td>\n",
              "      <td>2256.000000</td>\n",
              "      <td>2.256000e+03</td>\n",
              "      <td>2256.000000</td>\n",
              "    </tr>\n",
              "    <tr>\n",
              "      <th>mean</th>\n",
              "      <td>1.929076e+11</td>\n",
              "      <td>7115.664125</td>\n",
              "      <td>7341.591874</td>\n",
              "      <td>6879.407790</td>\n",
              "      <td>7142.245854</td>\n",
              "      <td>1.215246e+08</td>\n",
              "      <td>20366.374715</td>\n",
              "    </tr>\n",
              "    <tr>\n",
              "      <th>std</th>\n",
              "      <td>5.203094e+11</td>\n",
              "      <td>10064.253430</td>\n",
              "      <td>10418.852532</td>\n",
              "      <td>9708.909314</td>\n",
              "      <td>10125.430503</td>\n",
              "      <td>1.988147e+08</td>\n",
              "      <td>21498.610698</td>\n",
              "    </tr>\n",
              "    <tr>\n",
              "      <th>min</th>\n",
              "      <td>1.423440e+09</td>\n",
              "      <td>212.630000</td>\n",
              "      <td>223.200000</td>\n",
              "      <td>162.000000</td>\n",
              "      <td>212.630000</td>\n",
              "      <td>0.000000e+00</td>\n",
              "      <td>0.000000</td>\n",
              "    </tr>\n",
              "    <tr>\n",
              "      <th>25%</th>\n",
              "      <td>1.472148e+09</td>\n",
              "      <td>630.035000</td>\n",
              "      <td>643.495000</td>\n",
              "      <td>618.022500</td>\n",
              "      <td>631.162500</td>\n",
              "      <td>9.853729e+06</td>\n",
              "      <td>6685.973840</td>\n",
              "    </tr>\n",
              "    <tr>\n",
              "      <th>50%</th>\n",
              "      <td>1.520856e+09</td>\n",
              "      <td>5246.250000</td>\n",
              "      <td>5396.875000</td>\n",
              "      <td>5072.600000</td>\n",
              "      <td>5282.300000</td>\n",
              "      <td>4.414414e+07</td>\n",
              "      <td>13150.671761</td>\n",
              "    </tr>\n",
              "    <tr>\n",
              "      <th>75%</th>\n",
              "      <td>1.569564e+09</td>\n",
              "      <td>9185.175000</td>\n",
              "      <td>9377.875000</td>\n",
              "      <td>8947.450000</td>\n",
              "      <td>9186.475000</td>\n",
              "      <td>1.347245e+08</td>\n",
              "      <td>26326.685000</td>\n",
              "    </tr>\n",
              "    <tr>\n",
              "      <th>max</th>\n",
              "      <td>1.618272e+12</td>\n",
              "      <td>61203.000000</td>\n",
              "      <td>61699.000000</td>\n",
              "      <td>59859.000000</td>\n",
              "      <td>61202.887014</td>\n",
              "      <td>2.223208e+09</td>\n",
              "      <td>266768.610000</td>\n",
              "    </tr>\n",
              "  </tbody>\n",
              "</table>\n",
              "</div>\n",
              "      <button class=\"colab-df-convert\" onclick=\"convertToInteractive('df-7a5f9bd6-aea7-4cf0-8608-de9bc241212b')\"\n",
              "              title=\"Convert this dataframe to an interactive table.\"\n",
              "              style=\"display:none;\">\n",
              "        \n",
              "  <svg xmlns=\"http://www.w3.org/2000/svg\" height=\"24px\"viewBox=\"0 0 24 24\"\n",
              "       width=\"24px\">\n",
              "    <path d=\"M0 0h24v24H0V0z\" fill=\"none\"/>\n",
              "    <path d=\"M18.56 5.44l.94 2.06.94-2.06 2.06-.94-2.06-.94-.94-2.06-.94 2.06-2.06.94zm-11 1L8.5 8.5l.94-2.06 2.06-.94-2.06-.94L8.5 2.5l-.94 2.06-2.06.94zm10 10l.94 2.06.94-2.06 2.06-.94-2.06-.94-.94-2.06-.94 2.06-2.06.94z\"/><path d=\"M17.41 7.96l-1.37-1.37c-.4-.4-.92-.59-1.43-.59-.52 0-1.04.2-1.43.59L10.3 9.45l-7.72 7.72c-.78.78-.78 2.05 0 2.83L4 21.41c.39.39.9.59 1.41.59.51 0 1.02-.2 1.41-.59l7.78-7.78 2.81-2.81c.8-.78.8-2.07 0-2.86zM5.41 20L4 18.59l7.72-7.72 1.47 1.35L5.41 20z\"/>\n",
              "  </svg>\n",
              "      </button>\n",
              "      \n",
              "  <style>\n",
              "    .colab-df-container {\n",
              "      display:flex;\n",
              "      flex-wrap:wrap;\n",
              "      gap: 12px;\n",
              "    }\n",
              "\n",
              "    .colab-df-convert {\n",
              "      background-color: #E8F0FE;\n",
              "      border: none;\n",
              "      border-radius: 50%;\n",
              "      cursor: pointer;\n",
              "      display: none;\n",
              "      fill: #1967D2;\n",
              "      height: 32px;\n",
              "      padding: 0 0 0 0;\n",
              "      width: 32px;\n",
              "    }\n",
              "\n",
              "    .colab-df-convert:hover {\n",
              "      background-color: #E2EBFA;\n",
              "      box-shadow: 0px 1px 2px rgba(60, 64, 67, 0.3), 0px 1px 3px 1px rgba(60, 64, 67, 0.15);\n",
              "      fill: #174EA6;\n",
              "    }\n",
              "\n",
              "    [theme=dark] .colab-df-convert {\n",
              "      background-color: #3B4455;\n",
              "      fill: #D2E3FC;\n",
              "    }\n",
              "\n",
              "    [theme=dark] .colab-df-convert:hover {\n",
              "      background-color: #434B5C;\n",
              "      box-shadow: 0px 1px 3px 1px rgba(0, 0, 0, 0.15);\n",
              "      filter: drop-shadow(0px 1px 2px rgba(0, 0, 0, 0.3));\n",
              "      fill: #FFFFFF;\n",
              "    }\n",
              "  </style>\n",
              "\n",
              "      <script>\n",
              "        const buttonEl =\n",
              "          document.querySelector('#df-7a5f9bd6-aea7-4cf0-8608-de9bc241212b button.colab-df-convert');\n",
              "        buttonEl.style.display =\n",
              "          google.colab.kernel.accessAllowed ? 'block' : 'none';\n",
              "\n",
              "        async function convertToInteractive(key) {\n",
              "          const element = document.querySelector('#df-7a5f9bd6-aea7-4cf0-8608-de9bc241212b');\n",
              "          const dataTable =\n",
              "            await google.colab.kernel.invokeFunction('convertToInteractive',\n",
              "                                                     [key], {});\n",
              "          if (!dataTable) return;\n",
              "\n",
              "          const docLinkHtml = 'Like what you see? Visit the ' +\n",
              "            '<a target=\"_blank\" href=https://colab.research.google.com/notebooks/data_table.ipynb>data table notebook</a>'\n",
              "            + ' to learn more about interactive tables.';\n",
              "          element.innerHTML = '';\n",
              "          dataTable['output_type'] = 'display_data';\n",
              "          await google.colab.output.renderOutput(dataTable, element);\n",
              "          const docLink = document.createElement('div');\n",
              "          docLink.innerHTML = docLinkHtml;\n",
              "          element.appendChild(docLink);\n",
              "        }\n",
              "      </script>\n",
              "    </div>\n",
              "  </div>\n",
              "  "
            ]
          },
          "metadata": {},
          "execution_count": 90
        }
      ]
    },
    {
      "cell_type": "code",
      "source": [
        "bitcoin.open.hist()"
      ],
      "metadata": {
        "colab": {
          "base_uri": "https://localhost:8080/",
          "height": 282
        },
        "id": "iMpV52wk6zNe",
        "outputId": "bf5125b8-68b2-4428-afee-c2298bb1fd19"
      },
      "execution_count": null,
      "outputs": [
        {
          "output_type": "execute_result",
          "data": {
            "text/plain": [
              "<matplotlib.axes._subplots.AxesSubplot at 0x7fe5ee023310>"
            ]
          },
          "metadata": {},
          "execution_count": 91
        },
        {
          "output_type": "display_data",
          "data": {
            "text/plain": [
              "<Figure size 432x288 with 1 Axes>"
            ],
            "image/png": "[encoded data removed]"
          },
          "metadata": {
            "needs_background": "light"
          }
        }
      ]
    },
    {
      "cell_type": "markdown",
      "source": [
        "как изменялась цена открытия в обратном направлении"
      ],
      "metadata": {
        "id": "EyYcQiXQ7Ccd"
      }
    },
    {
      "cell_type": "code",
      "source": [
        "bitcoin.open.plot()"
      ],
      "metadata": {
        "colab": {
          "base_uri": "https://localhost:8080/",
          "height": 282
        },
        "id": "QOuv_oRV651b",
        "outputId": "37fc4f3c-94b8-4708-d76c-b2d222eaa8a2"
      },
      "execution_count": null,
      "outputs": [
        {
          "output_type": "execute_result",
          "data": {
            "text/plain": [
              "<matplotlib.axes._subplots.AxesSubplot at 0x7fe5edf23f90>"
            ]
          },
          "metadata": {},
          "execution_count": 92
        },
        {
          "output_type": "display_data",
          "data": {
            "text/plain": [
              "<Figure size 432x288 with 1 Axes>"
            ],
            "image/png": "[encoded data removed]"
          },
          "metadata": {
            "needs_background": "light"
          }
        }
      ]
    },
    {
      "cell_type": "code",
      "source": [
        "bitcoin = pd.read_csv('/content/bitfinex/Bitfinex_BTCUSD_d.csv', skiprows=1)\n",
        "\n",
        "####\n",
        "bitcoin.set_index('unix', inplace=True)\n",
        "bitcoin = bitcoin[::-1] # returns строки в обратном направлении\n",
        "bitcoin.reset_index(inplace=True)\n",
        "bitcoin.drop('unix', axis=1, inplace=True)\n",
        "\n",
        "####\n",
        "\n",
        "bitcoin.date= pd.to_datetime(bitcoin.date) # \n",
        "\n",
        "bitcoin.head()"
      ],
      "metadata": {
        "colab": {
          "base_uri": "https://localhost:8080/",
          "height": 206
        },
        "id": "tDajuDfG7TuH",
        "outputId": "918ca3bd-a7bf-4a3d-8d63-2665744d434f"
      },
      "execution_count": null,
      "outputs": [
        {
          "output_type": "execute_result",
          "data": {
            "text/plain": [
              "        date   symbol    open    high     low   close  Volume USD  Volume BTC\n",
              "0 2015-02-09  BTC/USD  224.22  225.00  215.40  220.61  6493501.42    29625.03\n",
              "1 2015-02-10  BTC/USD  220.61  223.88  214.00  220.96  6402350.57    29268.95\n",
              "2 2015-02-11  BTC/USD  220.96  224.40  218.10  219.19  4268986.79    19289.28\n",
              "3 2015-02-12  BTC/USD  219.19  223.20  217.87  222.60  2468883.37    11190.65\n",
              "4 2015-02-13  BTC/USD  222.39  241.76  221.46  236.00  6806972.89    29079.11"
            ],
            "text/html": [
              "\n",
              "  <div id=\"df-42d5bd49-6819-4099-8c0e-ddd1fa8c1265\">\n",
              "    <div class=\"colab-df-container\">\n",
              "      <div>\n",
              "<style scoped>\n",
              "    .dataframe tbody tr th:only-of-type {\n",
              "        vertical-align: middle;\n",
              "    }\n",
              "\n",
              "    .dataframe tbody tr th {\n",
              "        vertical-align: top;\n",
              "    }\n",
              "\n",
              "    .dataframe thead th {\n",
              "        text-align: right;\n",
              "    }\n",
              "</style>\n",
              "<table border=\"1\" class=\"dataframe\">\n",
              "  <thead>\n",
              "    <tr style=\"text-align: right;\">\n",
              "      <th></th>\n",
              "      <th>date</th>\n",
              "      <th>symbol</th>\n",
              "      <th>open</th>\n",
              "      <th>high</th>\n",
              "      <th>low</th>\n",
              "      <th>close</th>\n",
              "      <th>Volume USD</th>\n",
              "      <th>Volume BTC</th>\n",
              "    </tr>\n",
              "  </thead>\n",
              "  <tbody>\n",
              "    <tr>\n",
              "      <th>0</th>\n",
              "      <td>2015-02-09</td>\n",
              "      <td>BTC/USD</td>\n",
              "      <td>224.22</td>\n",
              "      <td>225.00</td>\n",
              "      <td>215.40</td>\n",
              "      <td>220.61</td>\n",
              "      <td>6493501.42</td>\n",
              "      <td>29625.03</td>\n",
              "    </tr>\n",
              "    <tr>\n",
              "      <th>1</th>\n",
              "      <td>2015-02-10</td>\n",
              "      <td>BTC/USD</td>\n",
              "      <td>220.61</td>\n",
              "      <td>223.88</td>\n",
              "      <td>214.00</td>\n",
              "      <td>220.96</td>\n",
              "      <td>6402350.57</td>\n",
              "      <td>29268.95</td>\n",
              "    </tr>\n",
              "    <tr>\n",
              "      <th>2</th>\n",
              "      <td>2015-02-11</td>\n",
              "      <td>BTC/USD</td>\n",
              "      <td>220.96</td>\n",
              "      <td>224.40</td>\n",
              "      <td>218.10</td>\n",
              "      <td>219.19</td>\n",
              "      <td>4268986.79</td>\n",
              "      <td>19289.28</td>\n",
              "    </tr>\n",
              "    <tr>\n",
              "      <th>3</th>\n",
              "      <td>2015-02-12</td>\n",
              "      <td>BTC/USD</td>\n",
              "      <td>219.19</td>\n",
              "      <td>223.20</td>\n",
              "      <td>217.87</td>\n",
              "      <td>222.60</td>\n",
              "      <td>2468883.37</td>\n",
              "      <td>11190.65</td>\n",
              "    </tr>\n",
              "    <tr>\n",
              "      <th>4</th>\n",
              "      <td>2015-02-13</td>\n",
              "      <td>BTC/USD</td>\n",
              "      <td>222.39</td>\n",
              "      <td>241.76</td>\n",
              "      <td>221.46</td>\n",
              "      <td>236.00</td>\n",
              "      <td>6806972.89</td>\n",
              "      <td>29079.11</td>\n",
              "    </tr>\n",
              "  </tbody>\n",
              "</table>\n",
              "</div>\n",
              "      <button class=\"colab-df-convert\" onclick=\"convertToInteractive('df-42d5bd49-6819-4099-8c0e-ddd1fa8c1265')\"\n",
              "              title=\"Convert this dataframe to an interactive table.\"\n",
              "              style=\"display:none;\">\n",
              "        \n",
              "  <svg xmlns=\"http://www.w3.org/2000/svg\" height=\"24px\"viewBox=\"0 0 24 24\"\n",
              "       width=\"24px\">\n",
              "    <path d=\"M0 0h24v24H0V0z\" fill=\"none\"/>\n",
              "    <path d=\"M18.56 5.44l.94 2.06.94-2.06 2.06-.94-2.06-.94-.94-2.06-.94 2.06-2.06.94zm-11 1L8.5 8.5l.94-2.06 2.06-.94-2.06-.94L8.5 2.5l-.94 2.06-2.06.94zm10 10l.94 2.06.94-2.06 2.06-.94-2.06-.94-.94-2.06-.94 2.06-2.06.94z\"/><path d=\"M17.41 7.96l-1.37-1.37c-.4-.4-.92-.59-1.43-.59-.52 0-1.04.2-1.43.59L10.3 9.45l-7.72 7.72c-.78.78-.78 2.05 0 2.83L4 21.41c.39.39.9.59 1.41.59.51 0 1.02-.2 1.41-.59l7.78-7.78 2.81-2.81c.8-.78.8-2.07 0-2.86zM5.41 20L4 18.59l7.72-7.72 1.47 1.35L5.41 20z\"/>\n",
              "  </svg>\n",
              "      </button>\n",
              "      \n",
              "  <style>\n",
              "    .colab-df-container {\n",
              "      display:flex;\n",
              "      flex-wrap:wrap;\n",
              "      gap: 12px;\n",
              "    }\n",
              "\n",
              "    .colab-df-convert {\n",
              "      background-color: #E8F0FE;\n",
              "      border: none;\n",
              "      border-radius: 50%;\n",
              "      cursor: pointer;\n",
              "      display: none;\n",
              "      fill: #1967D2;\n",
              "      height: 32px;\n",
              "      padding: 0 0 0 0;\n",
              "      width: 32px;\n",
              "    }\n",
              "\n",
              "    .colab-df-convert:hover {\n",
              "      background-color: #E2EBFA;\n",
              "      box-shadow: 0px 1px 2px rgba(60, 64, 67, 0.3), 0px 1px 3px 1px rgba(60, 64, 67, 0.15);\n",
              "      fill: #174EA6;\n",
              "    }\n",
              "\n",
              "    [theme=dark] .colab-df-convert {\n",
              "      background-color: #3B4455;\n",
              "      fill: #D2E3FC;\n",
              "    }\n",
              "\n",
              "    [theme=dark] .colab-df-convert:hover {\n",
              "      background-color: #434B5C;\n",
              "      box-shadow: 0px 1px 3px 1px rgba(0, 0, 0, 0.15);\n",
              "      filter: drop-shadow(0px 1px 2px rgba(0, 0, 0, 0.3));\n",
              "      fill: #FFFFFF;\n",
              "    }\n",
              "  </style>\n",
              "\n",
              "      <script>\n",
              "        const buttonEl =\n",
              "          document.querySelector('#df-42d5bd49-6819-4099-8c0e-ddd1fa8c1265 button.colab-df-convert');\n",
              "        buttonEl.style.display =\n",
              "          google.colab.kernel.accessAllowed ? 'block' : 'none';\n",
              "\n",
              "        async function convertToInteractive(key) {\n",
              "          const element = document.querySelector('#df-42d5bd49-6819-4099-8c0e-ddd1fa8c1265');\n",
              "          const dataTable =\n",
              "            await google.colab.kernel.invokeFunction('convertToInteractive',\n",
              "                                                     [key], {});\n",
              "          if (!dataTable) return;\n",
              "\n",
              "          const docLinkHtml = 'Like what you see? Visit the ' +\n",
              "            '<a target=\"_blank\" href=https://colab.research.google.com/notebooks/data_table.ipynb>data table notebook</a>'\n",
              "            + ' to learn more about interactive tables.';\n",
              "          element.innerHTML = '';\n",
              "          dataTable['output_type'] = 'display_data';\n",
              "          await google.colab.output.renderOutput(dataTable, element);\n",
              "          const docLink = document.createElement('div');\n",
              "          docLink.innerHTML = docLinkHtml;\n",
              "          element.appendChild(docLink);\n",
              "        }\n",
              "      </script>\n",
              "    </div>\n",
              "  </div>\n",
              "  "
            ]
          },
          "metadata": {},
          "execution_count": 93
        }
      ]
    },
    {
      "cell_type": "code",
      "source": [
        "bitcoin.open.plot()"
      ],
      "metadata": {
        "colab": {
          "base_uri": "https://localhost:8080/",
          "height": 282
        },
        "id": "KUHIqb1r8C7z",
        "outputId": "0ca86742-1ed7-4af4-96f0-82fafd109026"
      },
      "execution_count": null,
      "outputs": [
        {
          "output_type": "execute_result",
          "data": {
            "text/plain": [
              "<matplotlib.axes._subplots.AxesSubplot at 0x7fe5ede91bd0>"
            ]
          },
          "metadata": {},
          "execution_count": 94
        },
        {
          "output_type": "display_data",
          "data": {
            "text/plain": [
              "<Figure size 432x288 with 1 Axes>"
            ],
            "image/png": "[encoded data removed]"
          },
          "metadata": {
            "needs_background": "light"
          }
        }
      ]
    },
    {
      "cell_type": "code",
      "source": [
        "import matplotlib.pyplot as plt\n",
        "plt.plot(bitcoin.date, bitcoin.open, label='Open BTc/USD')\n",
        "plt.legend()\n",
        "plt.show()"
      ],
      "metadata": {
        "colab": {
          "base_uri": "https://localhost:8080/",
          "height": 265
        },
        "id": "KvSAPiBcAJtc",
        "outputId": "6d5e6825-3449-4339-ddd7-1401acf5f311"
      },
      "execution_count": null,
      "outputs": [
        {
          "output_type": "display_data",
          "data": {
            "text/plain": [
              "<Figure size 432x288 with 1 Axes>"
            ],
            "image/png": "[encoded data removed]"
          },
          "metadata": {
            "needs_background": "light"
          }
        }
      ]
    },
    {
      "cell_type": "code",
      "source": [
        "plt.plot(bitcoin.date, bitcoin['Volume USD'], label='Volume USD')\n",
        "plt.legend()\n",
        "plt.show()"
      ],
      "metadata": {
        "colab": {
          "base_uri": "https://localhost:8080/",
          "height": 276
        },
        "id": "D2earDZJBD0u",
        "outputId": "92699cc0-ab44-4b5e-fd56-2948b732d015"
      },
      "execution_count": null,
      "outputs": [
        {
          "output_type": "display_data",
          "data": {
            "text/plain": [
              "<Figure size 432x288 with 1 Axes>"
            ],
            "image/png": "[encoded data removed]"
          },
          "metadata": {
            "needs_background": "light"
          }
        }
      ]
    },
    {
      "cell_type": "markdown",
      "source": [
        "цена увеличивается. И поэтому объём торгов падает. Т.е. раньше могли торговать одним битком. а затем только тысячной частью."
      ],
      "metadata": {
        "id": "U5umQdTDCWnm"
      }
    },
    {
      "cell_type": "code",
      "source": [
        "plt.plot(bitcoin.date, bitcoin['Volume BTC'], label='Volume BTcC')\n",
        "plt.legend()\n",
        "plt.show()"
      ],
      "metadata": {
        "colab": {
          "base_uri": "https://localhost:8080/",
          "height": 265
        },
        "id": "5VmMxkSGBcHV",
        "outputId": "4b5f7a4b-9f6d-4394-d03d-71f9ebf60363"
      },
      "execution_count": null,
      "outputs": [
        {
          "output_type": "display_data",
          "data": {
            "text/plain": [
              "<Figure size 432x288 with 1 Axes>"
            ],
            "image/png": "[encoded data removed]"
          },
          "metadata": {
            "needs_background": "light"
          }
        }
      ]
    },
    {
      "cell_type": "markdown",
      "source": [
        "хотим график изменения разницы между open и close"
      ],
      "metadata": {
        "id": "iqwnEkZAB7ql"
      }
    },
    {
      "cell_type": "markdown",
      "source": [
        "в момент большой цены видим большую разницу open - close"
      ],
      "metadata": {
        "id": "2grWcqx3ChaK"
      }
    },
    {
      "cell_type": "code",
      "source": [
        "plt.plot(bitcoin.date, bitcoin.open - bitcoin.close, label='open - close')\n",
        "plt.legend()\n",
        "plt.show()"
      ],
      "metadata": {
        "colab": {
          "base_uri": "https://localhost:8080/",
          "height": 265
        },
        "id": "3rJYspGxB2Xn",
        "outputId": "b7d3b388-87a9-45dc-8694-b79fc6361f7c"
      },
      "execution_count": null,
      "outputs": [
        {
          "output_type": "display_data",
          "data": {
            "text/plain": [
              "<Figure size 432x288 with 1 Axes>"
            ],
            "image/png": "[encoded data removed]"
          },
          "metadata": {
            "needs_background": "light"
          }
        }
      ]
    },
    {
      "cell_type": "code",
      "source": [
        "plt.plot(bitcoin.date, bitcoin.high - bitcoin.low, label='open - close')\n",
        "plt.legend()\n",
        "plt.show()"
      ],
      "metadata": {
        "colab": {
          "base_uri": "https://localhost:8080/",
          "height": 265
        },
        "id": "nxHl7z0_D1VX",
        "outputId": "6519aa56-3315-4101-fd18-fe99fb737aeb"
      },
      "execution_count": null,
      "outputs": [
        {
          "output_type": "display_data",
          "data": {
            "text/plain": [
              "<Figure size 432x288 with 1 Axes>"
            ],
            "image/png": "[encoded data removed]"
          },
          "metadata": {
            "needs_background": "light"
          }
        }
      ]
    },
    {
      "cell_type": "code",
      "source": [
        "# feature engineering\n",
        "\n",
        "bitcoin['open_close_dif'] = bitcoin['open'] - bitcoin.close\n",
        "bitcoin['high_low_dif'] = bitcoin.high - bitcoin.low\n",
        "bitcoin['open_to_high'] = bitcoin['open_close_dif'] / bitcoin['high_low_dif']"
      ],
      "metadata": {
        "id": "eQ8d1W7DCwL6"
      },
      "execution_count": null,
      "outputs": []
    },
    {
      "cell_type": "code",
      "source": [
        "bitcoin['open_close_dif'].plot()"
      ],
      "metadata": {
        "colab": {
          "base_uri": "https://localhost:8080/",
          "height": 282
        },
        "id": "8VJTQceDEVjo",
        "outputId": "33b6a380-fd0a-4b46-a61b-8840c6210bec"
      },
      "execution_count": null,
      "outputs": [
        {
          "output_type": "execute_result",
          "data": {
            "text/plain": [
              "<matplotlib.axes._subplots.AxesSubplot at 0x7fe5edbc51d0>"
            ]
          },
          "metadata": {},
          "execution_count": 101
        },
        {
          "output_type": "display_data",
          "data": {
            "text/plain": [
              "<Figure size 432x288 with 1 Axes>"
            ],
            "image/png": "[encoded data removed]"
          },
          "metadata": {
            "needs_background": "light"
          }
        }
      ]
    },
    {
      "cell_type": "code",
      "source": [
        "bitcoin.head()"
      ],
      "metadata": {
        "colab": {
          "base_uri": "https://localhost:8080/",
          "height": 206
        },
        "id": "3Q8q2hyaEr2f",
        "outputId": "8a5826cc-37cc-42cb-9c36-ff515fbfb12d"
      },
      "execution_count": null,
      "outputs": [
        {
          "output_type": "execute_result",
          "data": {
            "text/plain": [
              "        date   symbol    open    high     low   close  Volume USD  Volume BTC  \\\n",
              "0 2015-02-09  BTC/USD  224.22  225.00  215.40  220.61  6493501.42    29625.03   \n",
              "1 2015-02-10  BTC/USD  220.61  223.88  214.00  220.96  6402350.57    29268.95   \n",
              "2 2015-02-11  BTC/USD  220.96  224.40  218.10  219.19  4268986.79    19289.28   \n",
              "3 2015-02-12  BTC/USD  219.19  223.20  217.87  222.60  2468883.37    11190.65   \n",
              "4 2015-02-13  BTC/USD  222.39  241.76  221.46  236.00  6806972.89    29079.11   \n",
              "\n",
              "   open_close_dif  high_low_dif  open_to_high  \n",
              "0            3.61          9.60      0.376042  \n",
              "1           -0.35          9.88     -0.035425  \n",
              "2            1.77          6.30      0.280952  \n",
              "3           -3.41          5.33     -0.639775  \n",
              "4          -13.61         20.30     -0.670443  "
            ],
            "text/html": [
              "\n",
              "  <div id=\"df-444b85ea-9817-4c34-994a-56d63f4bff53\">\n",
              "    <div class=\"colab-df-container\">\n",
              "      <div>\n",
              "<style scoped>\n",
              "    .dataframe tbody tr th:only-of-type {\n",
              "        vertical-align: middle;\n",
              "    }\n",
              "\n",
              "    .dataframe tbody tr th {\n",
              "        vertical-align: top;\n",
              "    }\n",
              "\n",
              "    .dataframe thead th {\n",
              "        text-align: right;\n",
              "    }\n",
              "</style>\n",
              "<table border=\"1\" class=\"dataframe\">\n",
              "  <thead>\n",
              "    <tr style=\"text-align: right;\">\n",
              "      <th></th>\n",
              "      <th>date</th>\n",
              "      <th>symbol</th>\n",
              "      <th>open</th>\n",
              "      <th>high</th>\n",
              "      <th>low</th>\n",
              "      <th>close</th>\n",
              "      <th>Volume USD</th>\n",
              "      <th>Volume BTC</th>\n",
              "      <th>open_close_dif</th>\n",
              "      <th>high_low_dif</th>\n",
              "      <th>open_to_high</th>\n",
              "    </tr>\n",
              "  </thead>\n",
              "  <tbody>\n",
              "    <tr>\n",
              "      <th>0</th>\n",
              "      <td>2015-02-09</td>\n",
              "      <td>BTC/USD</td>\n",
              "      <td>224.22</td>\n",
              "      <td>225.00</td>\n",
              "      <td>215.40</td>\n",
              "      <td>220.61</td>\n",
              "      <td>6493501.42</td>\n",
              "      <td>29625.03</td>\n",
              "      <td>3.61</td>\n",
              "      <td>9.60</td>\n",
              "      <td>0.376042</td>\n",
              "    </tr>\n",
              "    <tr>\n",
              "      <th>1</th>\n",
              "      <td>2015-02-10</td>\n",
              "      <td>BTC/USD</td>\n",
              "      <td>220.61</td>\n",
              "      <td>223.88</td>\n",
              "      <td>214.00</td>\n",
              "      <td>220.96</td>\n",
              "      <td>6402350.57</td>\n",
              "      <td>29268.95</td>\n",
              "      <td>-0.35</td>\n",
              "      <td>9.88</td>\n",
              "      <td>-0.035425</td>\n",
              "    </tr>\n",
              "    <tr>\n",
              "      <th>2</th>\n",
              "      <td>2015-02-11</td>\n",
              "      <td>BTC/USD</td>\n",
              "      <td>220.96</td>\n",
              "      <td>224.40</td>\n",
              "      <td>218.10</td>\n",
              "      <td>219.19</td>\n",
              "      <td>4268986.79</td>\n",
              "      <td>19289.28</td>\n",
              "      <td>1.77</td>\n",
              "      <td>6.30</td>\n",
              "      <td>0.280952</td>\n",
              "    </tr>\n",
              "    <tr>\n",
              "      <th>3</th>\n",
              "      <td>2015-02-12</td>\n",
              "      <td>BTC/USD</td>\n",
              "      <td>219.19</td>\n",
              "      <td>223.20</td>\n",
              "      <td>217.87</td>\n",
              "      <td>222.60</td>\n",
              "      <td>2468883.37</td>\n",
              "      <td>11190.65</td>\n",
              "      <td>-3.41</td>\n",
              "      <td>5.33</td>\n",
              "      <td>-0.639775</td>\n",
              "    </tr>\n",
              "    <tr>\n",
              "      <th>4</th>\n",
              "      <td>2015-02-13</td>\n",
              "      <td>BTC/USD</td>\n",
              "      <td>222.39</td>\n",
              "      <td>241.76</td>\n",
              "      <td>221.46</td>\n",
              "      <td>236.00</td>\n",
              "      <td>6806972.89</td>\n",
              "      <td>29079.11</td>\n",
              "      <td>-13.61</td>\n",
              "      <td>20.30</td>\n",
              "      <td>-0.670443</td>\n",
              "    </tr>\n",
              "  </tbody>\n",
              "</table>\n",
              "</div>\n",
              "      <button class=\"colab-df-convert\" onclick=\"convertToInteractive('df-444b85ea-9817-4c34-994a-56d63f4bff53')\"\n",
              "              title=\"Convert this dataframe to an interactive table.\"\n",
              "              style=\"display:none;\">\n",
              "        \n",
              "  <svg xmlns=\"http://www.w3.org/2000/svg\" height=\"24px\"viewBox=\"0 0 24 24\"\n",
              "       width=\"24px\">\n",
              "    <path d=\"M0 0h24v24H0V0z\" fill=\"none\"/>\n",
              "    <path d=\"M18.56 5.44l.94 2.06.94-2.06 2.06-.94-2.06-.94-.94-2.06-.94 2.06-2.06.94zm-11 1L8.5 8.5l.94-2.06 2.06-.94-2.06-.94L8.5 2.5l-.94 2.06-2.06.94zm10 10l.94 2.06.94-2.06 2.06-.94-2.06-.94-.94-2.06-.94 2.06-2.06.94z\"/><path d=\"M17.41 7.96l-1.37-1.37c-.4-.4-.92-.59-1.43-.59-.52 0-1.04.2-1.43.59L10.3 9.45l-7.72 7.72c-.78.78-.78 2.05 0 2.83L4 21.41c.39.39.9.59 1.41.59.51 0 1.02-.2 1.41-.59l7.78-7.78 2.81-2.81c.8-.78.8-2.07 0-2.86zM5.41 20L4 18.59l7.72-7.72 1.47 1.35L5.41 20z\"/>\n",
              "  </svg>\n",
              "      </button>\n",
              "      \n",
              "  <style>\n",
              "    .colab-df-container {\n",
              "      display:flex;\n",
              "      flex-wrap:wrap;\n",
              "      gap: 12px;\n",
              "    }\n",
              "\n",
              "    .colab-df-convert {\n",
              "      background-color: #E8F0FE;\n",
              "      border: none;\n",
              "      border-radius: 50%;\n",
              "      cursor: pointer;\n",
              "      display: none;\n",
              "      fill: #1967D2;\n",
              "      height: 32px;\n",
              "      padding: 0 0 0 0;\n",
              "      width: 32px;\n",
              "    }\n",
              "\n",
              "    .colab-df-convert:hover {\n",
              "      background-color: #E2EBFA;\n",
              "      box-shadow: 0px 1px 2px rgba(60, 64, 67, 0.3), 0px 1px 3px 1px rgba(60, 64, 67, 0.15);\n",
              "      fill: #174EA6;\n",
              "    }\n",
              "\n",
              "    [theme=dark] .colab-df-convert {\n",
              "      background-color: #3B4455;\n",
              "      fill: #D2E3FC;\n",
              "    }\n",
              "\n",
              "    [theme=dark] .colab-df-convert:hover {\n",
              "      background-color: #434B5C;\n",
              "      box-shadow: 0px 1px 3px 1px rgba(0, 0, 0, 0.15);\n",
              "      filter: drop-shadow(0px 1px 2px rgba(0, 0, 0, 0.3));\n",
              "      fill: #FFFFFF;\n",
              "    }\n",
              "  </style>\n",
              "\n",
              "      <script>\n",
              "        const buttonEl =\n",
              "          document.querySelector('#df-444b85ea-9817-4c34-994a-56d63f4bff53 button.colab-df-convert');\n",
              "        buttonEl.style.display =\n",
              "          google.colab.kernel.accessAllowed ? 'block' : 'none';\n",
              "\n",
              "        async function convertToInteractive(key) {\n",
              "          const element = document.querySelector('#df-444b85ea-9817-4c34-994a-56d63f4bff53');\n",
              "          const dataTable =\n",
              "            await google.colab.kernel.invokeFunction('convertToInteractive',\n",
              "                                                     [key], {});\n",
              "          if (!dataTable) return;\n",
              "\n",
              "          const docLinkHtml = 'Like what you see? Visit the ' +\n",
              "            '<a target=\"_blank\" href=https://colab.research.google.com/notebooks/data_table.ipynb>data table notebook</a>'\n",
              "            + ' to learn more about interactive tables.';\n",
              "          element.innerHTML = '';\n",
              "          dataTable['output_type'] = 'display_data';\n",
              "          await google.colab.output.renderOutput(dataTable, element);\n",
              "          const docLink = document.createElement('div');\n",
              "          docLink.innerHTML = docLinkHtml;\n",
              "          element.appendChild(docLink);\n",
              "        }\n",
              "      </script>\n",
              "    </div>\n",
              "  </div>\n",
              "  "
            ]
          },
          "metadata": {},
          "execution_count": 102
        }
      ]
    },
    {
      "cell_type": "markdown",
      "source": [
        "среднее за последние 7 дней"
      ],
      "metadata": {
        "id": "ikgJXQC2FKEs"
      }
    },
    {
      "cell_type": "code",
      "source": [
        "bitcoin.high.rolling(window=7).mean()"
      ],
      "metadata": {
        "colab": {
          "base_uri": "https://localhost:8080/"
        },
        "id": "z_oQI1ezFBfK",
        "outputId": "4ee571ad-de32-4ecf-9b2e-97dec23b417d"
      },
      "execution_count": null,
      "outputs": [
        {
          "output_type": "execute_result",
          "data": {
            "text/plain": [
              "0                NaN\n",
              "1                NaN\n",
              "2                NaN\n",
              "3                NaN\n",
              "4                NaN\n",
              "            ...     \n",
              "2251    58963.428571\n",
              "2252    59163.714286\n",
              "2253    59484.000000\n",
              "2254    59782.285714\n",
              "2255    59899.660562\n",
              "Name: high, Length: 2256, dtype: float64"
            ]
          },
          "metadata": {},
          "execution_count": 103
        }
      ]
    },
    {
      "cell_type": "code",
      "source": [
        "bitcoin.high.rolling(window=7).mean().plot()"
      ],
      "metadata": {
        "colab": {
          "base_uri": "https://localhost:8080/",
          "height": 282
        },
        "id": "PngKN0rEFQma",
        "outputId": "e52ee0b5-ccf4-4f36-e1f4-ba810b111fee"
      },
      "execution_count": null,
      "outputs": [
        {
          "output_type": "execute_result",
          "data": {
            "text/plain": [
              "<matplotlib.axes._subplots.AxesSubplot at 0x7fe5edffb950>"
            ]
          },
          "metadata": {},
          "execution_count": 104
        },
        {
          "output_type": "display_data",
          "data": {
            "text/plain": [
              "<Figure size 432x288 with 1 Axes>"
            ],
            "image/png": "[encoded data removed]"
          },
          "metadata": {
            "needs_background": "light"
          }
        }
      ]
    },
    {
      "cell_type": "code",
      "source": [
        "bitcoin.high.plot()"
      ],
      "metadata": {
        "colab": {
          "base_uri": "https://localhost:8080/",
          "height": 282
        },
        "id": "WM_2lU6JFU3S",
        "outputId": "598d4dc9-0354-4c63-e0ef-bc001afb131b"
      },
      "execution_count": null,
      "outputs": [
        {
          "output_type": "execute_result",
          "data": {
            "text/plain": [
              "<matplotlib.axes._subplots.AxesSubplot at 0x7fe5edd26fd0>"
            ]
          },
          "metadata": {},
          "execution_count": 105
        },
        {
          "output_type": "display_data",
          "data": {
            "text/plain": [
              "<Figure size 432x288 with 1 Axes>"
            ],
            "image/png": "[encoded data removed]"
          },
          "metadata": {
            "needs_background": "light"
          }
        }
      ]
    },
    {
      "cell_type": "code",
      "source": [
        "bitcoin['high_mean_7d'] = bitcoin.high.shift(1).rolling(window=7).mean()\n",
        "bitcoin['max_open_14d'] = bitcoin.open.shift(1).rolling(window=14).max()\n",
        "bitcoin['min_close_14d'] = bitcoin.close.shift(1).rolling(window=14).min()"
      ],
      "metadata": {
        "id": "kOdtDEwTFo1f"
      },
      "execution_count": null,
      "outputs": []
    },
    {
      "cell_type": "markdown",
      "source": [
        "НЕльзя заглядывать в будущее.\n",
        "\n",
        "Мин цена за 14 дней включает в себя минимальную за сегодня. Шифт 1 - сдвигаем всё на одну строку вперёд."
      ],
      "metadata": {
        "id": "tbipmmZ5GgDE"
      }
    },
    {
      "cell_type": "code",
      "source": [
        "bitcoin.date.dt.weekday"
      ],
      "metadata": {
        "colab": {
          "base_uri": "https://localhost:8080/"
        },
        "id": "9_w2xyXiG4_3",
        "outputId": "89976d7e-75cc-4e17-8257-918fe713bede"
      },
      "execution_count": null,
      "outputs": [
        {
          "output_type": "execute_result",
          "data": {
            "text/plain": [
              "0       0\n",
              "1       1\n",
              "2       2\n",
              "3       3\n",
              "4       4\n",
              "       ..\n",
              "2251    4\n",
              "2252    5\n",
              "2253    6\n",
              "2254    0\n",
              "2255    1\n",
              "Name: date, Length: 2256, dtype: int64"
            ]
          },
          "metadata": {},
          "execution_count": 107
        }
      ]
    },
    {
      "cell_type": "code",
      "source": [
        "bitcoin.groupby(bitcoin.date.dt.weekday)['Volume BTC'].mean()"
      ],
      "metadata": {
        "colab": {
          "base_uri": "https://localhost:8080/"
        },
        "id": "A8Q15z2_HIoR",
        "outputId": "fb5f0e7d-5fef-4e15-8b42-fd907af40f7c"
      },
      "execution_count": null,
      "outputs": [
        {
          "output_type": "execute_result",
          "data": {
            "text/plain": [
              "date\n",
              "0    20087.930843\n",
              "1    21382.213443\n",
              "2    22357.596736\n",
              "3    22522.741447\n",
              "4    22583.815357\n",
              "5    16753.001831\n",
              "6    16875.033304\n",
              "Name: Volume BTC, dtype: float64"
            ]
          },
          "metadata": {},
          "execution_count": 108
        }
      ]
    },
    {
      "cell_type": "code",
      "source": [
        "bitcoin.groupby(bitcoin.date.dt.weekday)['Volume BTC'].mean().plot(kind='bar')"
      ],
      "metadata": {
        "colab": {
          "base_uri": "https://localhost:8080/",
          "height": 294
        },
        "id": "ku3rUy37HjNQ",
        "outputId": "20111d80-30e7-4b68-f10c-fff64309a4b8"
      },
      "execution_count": null,
      "outputs": [
        {
          "output_type": "execute_result",
          "data": {
            "text/plain": [
              "<matplotlib.axes._subplots.AxesSubplot at 0x7fe5edd721d0>"
            ]
          },
          "metadata": {},
          "execution_count": 109
        },
        {
          "output_type": "display_data",
          "data": {
            "text/plain": [
              "<Figure size 432x288 with 1 Axes>"
            ],
            "image/png": "[encoded data removed]"
          },
          "metadata": {
            "needs_background": "light"
          }
        }
      ]
    },
    {
      "cell_type": "markdown",
      "source": [
        "При предсказании цен назаватра выгодно знать цены на вчера, позавчера и т.д."
      ],
      "metadata": {
        "id": "F379YPDeH6l5"
      }
    },
    {
      "cell_type": "code",
      "source": [
        "bitcoin['close_1d'] = bitcoin.close.shift(1)"
      ],
      "metadata": {
        "id": "aIqm_0YOHu1b"
      },
      "execution_count": null,
      "outputs": []
    },
    {
      "cell_type": "code",
      "source": [
        "bitcoin[[\"date\", \"close\", \"close_1d\"]]"
      ],
      "metadata": {
        "colab": {
          "base_uri": "https://localhost:8080/",
          "height": 423
        },
        "id": "DvBVjtuPINwl",
        "outputId": "4dd39a31-a80c-4d05-d4a3-314b198d14e0"
      },
      "execution_count": null,
      "outputs": [
        {
          "output_type": "execute_result",
          "data": {
            "text/plain": [
              "           date     close  close_1d\n",
              "0    2015-02-09    220.61       NaN\n",
              "1    2015-02-10    220.96    220.61\n",
              "2    2015-02-11    219.19    220.96\n",
              "3    2015-02-12    222.60    219.19\n",
              "4    2015-02-13    236.00    222.60\n",
              "...         ...       ...       ...\n",
              "2251 2021-04-09  58134.00  58110.00\n",
              "2252 2021-04-10  59812.00  58134.00\n",
              "2253 2021-04-11  60032.00  59812.00\n",
              "2254 2021-04-12  59874.00  60032.00\n",
              "2255 2021-04-13  60240.00  59874.00\n",
              "\n",
              "[2256 rows x 3 columns]"
            ],
            "text/html": [
              "\n",
              "  <div id=\"df-894d60cc-eec2-4d84-8b5c-8f7217c87f19\">\n",
              "    <div class=\"colab-df-container\">\n",
              "      <div>\n",
              "<style scoped>\n",
              "    .dataframe tbody tr th:only-of-type {\n",
              "        vertical-align: middle;\n",
              "    }\n",
              "\n",
              "    .dataframe tbody tr th {\n",
              "        vertical-align: top;\n",
              "    }\n",
              "\n",
              "    .dataframe thead th {\n",
              "        text-align: right;\n",
              "    }\n",
              "</style>\n",
              "<table border=\"1\" class=\"dataframe\">\n",
              "  <thead>\n",
              "    <tr style=\"text-align: right;\">\n",
              "      <th></th>\n",
              "      <th>date</th>\n",
              "      <th>close</th>\n",
              "      <th>close_1d</th>\n",
              "    </tr>\n",
              "  </thead>\n",
              "  <tbody>\n",
              "    <tr>\n",
              "      <th>0</th>\n",
              "      <td>2015-02-09</td>\n",
              "      <td>220.61</td>\n",
              "      <td>NaN</td>\n",
              "    </tr>\n",
              "    <tr>\n",
              "      <th>1</th>\n",
              "      <td>2015-02-10</td>\n",
              "      <td>220.96</td>\n",
              "      <td>220.61</td>\n",
              "    </tr>\n",
              "    <tr>\n",
              "      <th>2</th>\n",
              "      <td>2015-02-11</td>\n",
              "      <td>219.19</td>\n",
              "      <td>220.96</td>\n",
              "    </tr>\n",
              "    <tr>\n",
              "      <th>3</th>\n",
              "      <td>2015-02-12</td>\n",
              "      <td>222.60</td>\n",
              "      <td>219.19</td>\n",
              "    </tr>\n",
              "    <tr>\n",
              "      <th>4</th>\n",
              "      <td>2015-02-13</td>\n",
              "      <td>236.00</td>\n",
              "      <td>222.60</td>\n",
              "    </tr>\n",
              "    <tr>\n",
              "      <th>...</th>\n",
              "      <td>...</td>\n",
              "      <td>...</td>\n",
              "      <td>...</td>\n",
              "    </tr>\n",
              "    <tr>\n",
              "      <th>2251</th>\n",
              "      <td>2021-04-09</td>\n",
              "      <td>58134.00</td>\n",
              "      <td>58110.00</td>\n",
              "    </tr>\n",
              "    <tr>\n",
              "      <th>2252</th>\n",
              "      <td>2021-04-10</td>\n",
              "      <td>59812.00</td>\n",
              "      <td>58134.00</td>\n",
              "    </tr>\n",
              "    <tr>\n",
              "      <th>2253</th>\n",
              "      <td>2021-04-11</td>\n",
              "      <td>60032.00</td>\n",
              "      <td>59812.00</td>\n",
              "    </tr>\n",
              "    <tr>\n",
              "      <th>2254</th>\n",
              "      <td>2021-04-12</td>\n",
              "      <td>59874.00</td>\n",
              "      <td>60032.00</td>\n",
              "    </tr>\n",
              "    <tr>\n",
              "      <th>2255</th>\n",
              "      <td>2021-04-13</td>\n",
              "      <td>60240.00</td>\n",
              "      <td>59874.00</td>\n",
              "    </tr>\n",
              "  </tbody>\n",
              "</table>\n",
              "<p>2256 rows × 3 columns</p>\n",
              "</div>\n",
              "      <button class=\"colab-df-convert\" onclick=\"convertToInteractive('df-894d60cc-eec2-4d84-8b5c-8f7217c87f19')\"\n",
              "              title=\"Convert this dataframe to an interactive table.\"\n",
              "              style=\"display:none;\">\n",
              "        \n",
              "  <svg xmlns=\"http://www.w3.org/2000/svg\" height=\"24px\"viewBox=\"0 0 24 24\"\n",
              "       width=\"24px\">\n",
              "    <path d=\"M0 0h24v24H0V0z\" fill=\"none\"/>\n",
              "    <path d=\"M18.56 5.44l.94 2.06.94-2.06 2.06-.94-2.06-.94-.94-2.06-.94 2.06-2.06.94zm-11 1L8.5 8.5l.94-2.06 2.06-.94-2.06-.94L8.5 2.5l-.94 2.06-2.06.94zm10 10l.94 2.06.94-2.06 2.06-.94-2.06-.94-.94-2.06-.94 2.06-2.06.94z\"/><path d=\"M17.41 7.96l-1.37-1.37c-.4-.4-.92-.59-1.43-.59-.52 0-1.04.2-1.43.59L10.3 9.45l-7.72 7.72c-.78.78-.78 2.05 0 2.83L4 21.41c.39.39.9.59 1.41.59.51 0 1.02-.2 1.41-.59l7.78-7.78 2.81-2.81c.8-.78.8-2.07 0-2.86zM5.41 20L4 18.59l7.72-7.72 1.47 1.35L5.41 20z\"/>\n",
              "  </svg>\n",
              "      </button>\n",
              "      \n",
              "  <style>\n",
              "    .colab-df-container {\n",
              "      display:flex;\n",
              "      flex-wrap:wrap;\n",
              "      gap: 12px;\n",
              "    }\n",
              "\n",
              "    .colab-df-convert {\n",
              "      background-color: #E8F0FE;\n",
              "      border: none;\n",
              "      border-radius: 50%;\n",
              "      cursor: pointer;\n",
              "      display: none;\n",
              "      fill: #1967D2;\n",
              "      height: 32px;\n",
              "      padding: 0 0 0 0;\n",
              "      width: 32px;\n",
              "    }\n",
              "\n",
              "    .colab-df-convert:hover {\n",
              "      background-color: #E2EBFA;\n",
              "      box-shadow: 0px 1px 2px rgba(60, 64, 67, 0.3), 0px 1px 3px 1px rgba(60, 64, 67, 0.15);\n",
              "      fill: #174EA6;\n",
              "    }\n",
              "\n",
              "    [theme=dark] .colab-df-convert {\n",
              "      background-color: #3B4455;\n",
              "      fill: #D2E3FC;\n",
              "    }\n",
              "\n",
              "    [theme=dark] .colab-df-convert:hover {\n",
              "      background-color: #434B5C;\n",
              "      box-shadow: 0px 1px 3px 1px rgba(0, 0, 0, 0.15);\n",
              "      filter: drop-shadow(0px 1px 2px rgba(0, 0, 0, 0.3));\n",
              "      fill: #FFFFFF;\n",
              "    }\n",
              "  </style>\n",
              "\n",
              "      <script>\n",
              "        const buttonEl =\n",
              "          document.querySelector('#df-894d60cc-eec2-4d84-8b5c-8f7217c87f19 button.colab-df-convert');\n",
              "        buttonEl.style.display =\n",
              "          google.colab.kernel.accessAllowed ? 'block' : 'none';\n",
              "\n",
              "        async function convertToInteractive(key) {\n",
              "          const element = document.querySelector('#df-894d60cc-eec2-4d84-8b5c-8f7217c87f19');\n",
              "          const dataTable =\n",
              "            await google.colab.kernel.invokeFunction('convertToInteractive',\n",
              "                                                     [key], {});\n",
              "          if (!dataTable) return;\n",
              "\n",
              "          const docLinkHtml = 'Like what you see? Visit the ' +\n",
              "            '<a target=\"_blank\" href=https://colab.research.google.com/notebooks/data_table.ipynb>data table notebook</a>'\n",
              "            + ' to learn more about interactive tables.';\n",
              "          element.innerHTML = '';\n",
              "          dataTable['output_type'] = 'display_data';\n",
              "          await google.colab.output.renderOutput(dataTable, element);\n",
              "          const docLink = document.createElement('div');\n",
              "          docLink.innerHTML = docLinkHtml;\n",
              "          element.appendChild(docLink);\n",
              "        }\n",
              "      </script>\n",
              "    </div>\n",
              "  </div>\n",
              "  "
            ]
          },
          "metadata": {},
          "execution_count": 111
        }
      ]
    },
    {
      "cell_type": "code",
      "source": [
        "for day in range(1, 8):\n",
        "  bitcoin[f'close_{day}d'] = bitcoin.close.shift(day)"
      ],
      "metadata": {
        "id": "TFnifAuXIpS4"
      },
      "execution_count": null,
      "outputs": []
    },
    {
      "cell_type": "markdown",
      "source": [
        "Хотим к строке добавить максимальное количество информации для обучения. Цена закрытия за последние 7 дней."
      ],
      "metadata": {
        "id": "yfw5uQNMJJZV"
      }
    },
    {
      "cell_type": "code",
      "source": [
        "bitcoin.head()"
      ],
      "metadata": {
        "colab": {
          "base_uri": "https://localhost:8080/",
          "height": 235
        },
        "id": "fHCQ36_KJAdC",
        "outputId": "772dac6a-e03d-44e1-8483-f126abb37962"
      },
      "execution_count": null,
      "outputs": [
        {
          "output_type": "execute_result",
          "data": {
            "text/plain": [
              "        date   symbol    open    high     low   close  Volume USD  Volume BTC  \\\n",
              "0 2015-02-09  BTC/USD  224.22  225.00  215.40  220.61  6493501.42    29625.03   \n",
              "1 2015-02-10  BTC/USD  220.61  223.88  214.00  220.96  6402350.57    29268.95   \n",
              "2 2015-02-11  BTC/USD  220.96  224.40  218.10  219.19  4268986.79    19289.28   \n",
              "3 2015-02-12  BTC/USD  219.19  223.20  217.87  222.60  2468883.37    11190.65   \n",
              "4 2015-02-13  BTC/USD  222.39  241.76  221.46  236.00  6806972.89    29079.11   \n",
              "\n",
              "   open_close_dif  high_low_dif  ...  high_mean_7d  max_open_14d  \\\n",
              "0            3.61          9.60  ...           NaN           NaN   \n",
              "1           -0.35          9.88  ...           NaN           NaN   \n",
              "2            1.77          6.30  ...           NaN           NaN   \n",
              "3           -3.41          5.33  ...           NaN           NaN   \n",
              "4          -13.61         20.30  ...           NaN           NaN   \n",
              "\n",
              "   min_close_14d  close_1d  close_2d  close_3d  close_4d  close_5d  close_6d  \\\n",
              "0            NaN       NaN       NaN       NaN       NaN       NaN       NaN   \n",
              "1            NaN    220.61       NaN       NaN       NaN       NaN       NaN   \n",
              "2            NaN    220.96    220.61       NaN       NaN       NaN       NaN   \n",
              "3            NaN    219.19    220.96    220.61       NaN       NaN       NaN   \n",
              "4            NaN    222.60    219.19    220.96    220.61       NaN       NaN   \n",
              "\n",
              "   close_7d  \n",
              "0       NaN  \n",
              "1       NaN  \n",
              "2       NaN  \n",
              "3       NaN  \n",
              "4       NaN  \n",
              "\n",
              "[5 rows x 21 columns]"
            ],
            "text/html": [
              "\n",
              "  <div id=\"df-690428c8-310d-43e8-94f8-04260bfe0912\">\n",
              "    <div class=\"colab-df-container\">\n",
              "      <div>\n",
              "<style scoped>\n",
              "    .dataframe tbody tr th:only-of-type {\n",
              "        vertical-align: middle;\n",
              "    }\n",
              "\n",
              "    .dataframe tbody tr th {\n",
              "        vertical-align: top;\n",
              "    }\n",
              "\n",
              "    .dataframe thead th {\n",
              "        text-align: right;\n",
              "    }\n",
              "</style>\n",
              "<table border=\"1\" class=\"dataframe\">\n",
              "  <thead>\n",
              "    <tr style=\"text-align: right;\">\n",
              "      <th></th>\n",
              "      <th>date</th>\n",
              "      <th>symbol</th>\n",
              "      <th>open</th>\n",
              "      <th>high</th>\n",
              "      <th>low</th>\n",
              "      <th>close</th>\n",
              "      <th>Volume USD</th>\n",
              "      <th>Volume BTC</th>\n",
              "      <th>open_close_dif</th>\n",
              "      <th>high_low_dif</th>\n",
              "      <th>...</th>\n",
              "      <th>high_mean_7d</th>\n",
              "      <th>max_open_14d</th>\n",
              "      <th>min_close_14d</th>\n",
              "      <th>close_1d</th>\n",
              "      <th>close_2d</th>\n",
              "      <th>close_3d</th>\n",
              "      <th>close_4d</th>\n",
              "      <th>close_5d</th>\n",
              "      <th>close_6d</th>\n",
              "      <th>close_7d</th>\n",
              "    </tr>\n",
              "  </thead>\n",
              "  <tbody>\n",
              "    <tr>\n",
              "      <th>0</th>\n",
              "      <td>2015-02-09</td>\n",
              "      <td>BTC/USD</td>\n",
              "      <td>224.22</td>\n",
              "      <td>225.00</td>\n",
              "      <td>215.40</td>\n",
              "      <td>220.61</td>\n",
              "      <td>6493501.42</td>\n",
              "      <td>29625.03</td>\n",
              "      <td>3.61</td>\n",
              "      <td>9.60</td>\n",
              "      <td>...</td>\n",
              "      <td>NaN</td>\n",
              "      <td>NaN</td>\n",
              "      <td>NaN</td>\n",
              "      <td>NaN</td>\n",
              "      <td>NaN</td>\n",
              "      <td>NaN</td>\n",
              "      <td>NaN</td>\n",
              "      <td>NaN</td>\n",
              "      <td>NaN</td>\n",
              "      <td>NaN</td>\n",
              "    </tr>\n",
              "    <tr>\n",
              "      <th>1</th>\n",
              "      <td>2015-02-10</td>\n",
              "      <td>BTC/USD</td>\n",
              "      <td>220.61</td>\n",
              "      <td>223.88</td>\n",
              "      <td>214.00</td>\n",
              "      <td>220.96</td>\n",
              "      <td>6402350.57</td>\n",
              "      <td>29268.95</td>\n",
              "      <td>-0.35</td>\n",
              "      <td>9.88</td>\n",
              "      <td>...</td>\n",
              "      <td>NaN</td>\n",
              "      <td>NaN</td>\n",
              "      <td>NaN</td>\n",
              "      <td>220.61</td>\n",
              "      <td>NaN</td>\n",
              "      <td>NaN</td>\n",
              "      <td>NaN</td>\n",
              "      <td>NaN</td>\n",
              "      <td>NaN</td>\n",
              "      <td>NaN</td>\n",
              "    </tr>\n",
              "    <tr>\n",
              "      <th>2</th>\n",
              "      <td>2015-02-11</td>\n",
              "      <td>BTC/USD</td>\n",
              "      <td>220.96</td>\n",
              "      <td>224.40</td>\n",
              "      <td>218.10</td>\n",
              "      <td>219.19</td>\n",
              "      <td>4268986.79</td>\n",
              "      <td>19289.28</td>\n",
              "      <td>1.77</td>\n",
              "      <td>6.30</td>\n",
              "      <td>...</td>\n",
              "      <td>NaN</td>\n",
              "      <td>NaN</td>\n",
              "      <td>NaN</td>\n",
              "      <td>220.96</td>\n",
              "      <td>220.61</td>\n",
              "      <td>NaN</td>\n",
              "      <td>NaN</td>\n",
              "      <td>NaN</td>\n",
              "      <td>NaN</td>\n",
              "      <td>NaN</td>\n",
              "    </tr>\n",
              "    <tr>\n",
              "      <th>3</th>\n",
              "      <td>2015-02-12</td>\n",
              "      <td>BTC/USD</td>\n",
              "      <td>219.19</td>\n",
              "      <td>223.20</td>\n",
              "      <td>217.87</td>\n",
              "      <td>222.60</td>\n",
              "      <td>2468883.37</td>\n",
              "      <td>11190.65</td>\n",
              "      <td>-3.41</td>\n",
              "      <td>5.33</td>\n",
              "      <td>...</td>\n",
              "      <td>NaN</td>\n",
              "      <td>NaN</td>\n",
              "      <td>NaN</td>\n",
              "      <td>219.19</td>\n",
              "      <td>220.96</td>\n",
              "      <td>220.61</td>\n",
              "      <td>NaN</td>\n",
              "      <td>NaN</td>\n",
              "      <td>NaN</td>\n",
              "      <td>NaN</td>\n",
              "    </tr>\n",
              "    <tr>\n",
              "      <th>4</th>\n",
              "      <td>2015-02-13</td>\n",
              "      <td>BTC/USD</td>\n",
              "      <td>222.39</td>\n",
              "      <td>241.76</td>\n",
              "      <td>221.46</td>\n",
              "      <td>236.00</td>\n",
              "      <td>6806972.89</td>\n",
              "      <td>29079.11</td>\n",
              "      <td>-13.61</td>\n",
              "      <td>20.30</td>\n",
              "      <td>...</td>\n",
              "      <td>NaN</td>\n",
              "      <td>NaN</td>\n",
              "      <td>NaN</td>\n",
              "      <td>222.60</td>\n",
              "      <td>219.19</td>\n",
              "      <td>220.96</td>\n",
              "      <td>220.61</td>\n",
              "      <td>NaN</td>\n",
              "      <td>NaN</td>\n",
              "      <td>NaN</td>\n",
              "    </tr>\n",
              "  </tbody>\n",
              "</table>\n",
              "<p>5 rows × 21 columns</p>\n",
              "</div>\n",
              "      <button class=\"colab-df-convert\" onclick=\"convertToInteractive('df-690428c8-310d-43e8-94f8-04260bfe0912')\"\n",
              "              title=\"Convert this dataframe to an interactive table.\"\n",
              "              style=\"display:none;\">\n",
              "        \n",
              "  <svg xmlns=\"http://www.w3.org/2000/svg\" height=\"24px\"viewBox=\"0 0 24 24\"\n",
              "       width=\"24px\">\n",
              "    <path d=\"M0 0h24v24H0V0z\" fill=\"none\"/>\n",
              "    <path d=\"M18.56 5.44l.94 2.06.94-2.06 2.06-.94-2.06-.94-.94-2.06-.94 2.06-2.06.94zm-11 1L8.5 8.5l.94-2.06 2.06-.94-2.06-.94L8.5 2.5l-.94 2.06-2.06.94zm10 10l.94 2.06.94-2.06 2.06-.94-2.06-.94-.94-2.06-.94 2.06-2.06.94z\"/><path d=\"M17.41 7.96l-1.37-1.37c-.4-.4-.92-.59-1.43-.59-.52 0-1.04.2-1.43.59L10.3 9.45l-7.72 7.72c-.78.78-.78 2.05 0 2.83L4 21.41c.39.39.9.59 1.41.59.51 0 1.02-.2 1.41-.59l7.78-7.78 2.81-2.81c.8-.78.8-2.07 0-2.86zM5.41 20L4 18.59l7.72-7.72 1.47 1.35L5.41 20z\"/>\n",
              "  </svg>\n",
              "      </button>\n",
              "      \n",
              "  <style>\n",
              "    .colab-df-container {\n",
              "      display:flex;\n",
              "      flex-wrap:wrap;\n",
              "      gap: 12px;\n",
              "    }\n",
              "\n",
              "    .colab-df-convert {\n",
              "      background-color: #E8F0FE;\n",
              "      border: none;\n",
              "      border-radius: 50%;\n",
              "      cursor: pointer;\n",
              "      display: none;\n",
              "      fill: #1967D2;\n",
              "      height: 32px;\n",
              "      padding: 0 0 0 0;\n",
              "      width: 32px;\n",
              "    }\n",
              "\n",
              "    .colab-df-convert:hover {\n",
              "      background-color: #E2EBFA;\n",
              "      box-shadow: 0px 1px 2px rgba(60, 64, 67, 0.3), 0px 1px 3px 1px rgba(60, 64, 67, 0.15);\n",
              "      fill: #174EA6;\n",
              "    }\n",
              "\n",
              "    [theme=dark] .colab-df-convert {\n",
              "      background-color: #3B4455;\n",
              "      fill: #D2E3FC;\n",
              "    }\n",
              "\n",
              "    [theme=dark] .colab-df-convert:hover {\n",
              "      background-color: #434B5C;\n",
              "      box-shadow: 0px 1px 3px 1px rgba(0, 0, 0, 0.15);\n",
              "      filter: drop-shadow(0px 1px 2px rgba(0, 0, 0, 0.3));\n",
              "      fill: #FFFFFF;\n",
              "    }\n",
              "  </style>\n",
              "\n",
              "      <script>\n",
              "        const buttonEl =\n",
              "          document.querySelector('#df-690428c8-310d-43e8-94f8-04260bfe0912 button.colab-df-convert');\n",
              "        buttonEl.style.display =\n",
              "          google.colab.kernel.accessAllowed ? 'block' : 'none';\n",
              "\n",
              "        async function convertToInteractive(key) {\n",
              "          const element = document.querySelector('#df-690428c8-310d-43e8-94f8-04260bfe0912');\n",
              "          const dataTable =\n",
              "            await google.colab.kernel.invokeFunction('convertToInteractive',\n",
              "                                                     [key], {});\n",
              "          if (!dataTable) return;\n",
              "\n",
              "          const docLinkHtml = 'Like what you see? Visit the ' +\n",
              "            '<a target=\"_blank\" href=https://colab.research.google.com/notebooks/data_table.ipynb>data table notebook</a>'\n",
              "            + ' to learn more about interactive tables.';\n",
              "          element.innerHTML = '';\n",
              "          dataTable['output_type'] = 'display_data';\n",
              "          await google.colab.output.renderOutput(dataTable, element);\n",
              "          const docLink = document.createElement('div');\n",
              "          docLink.innerHTML = docLinkHtml;\n",
              "          element.appendChild(docLink);\n",
              "        }\n",
              "      </script>\n",
              "    </div>\n",
              "  </div>\n",
              "  "
            ]
          },
          "metadata": {},
          "execution_count": 113
        }
      ]
    },
    {
      "cell_type": "markdown",
      "source": [
        "Можно добавить колонки год"
      ],
      "metadata": {
        "id": "AV8ovMQWJzBK"
      }
    },
    {
      "cell_type": "code",
      "source": [
        "bitcoin['year'] = bitcoin.date.dt.year\n",
        "bitcoin['month'] = bitcoin.date.dt.month\n",
        "bitcoin['day_of_week'] = bitcoin.date.dt.weekday"
      ],
      "metadata": {
        "id": "GsgAQznHJR7h"
      },
      "execution_count": null,
      "outputs": []
    },
    {
      "cell_type": "code",
      "source": [
        "\n",
        "bitcoin.drop('date', axis=1,inplace=True)\n",
        "bitcoin.drop('symbol', axis=1,inplace=True)\n",
        "bitcoin['target'] = bitcoin.close.shift(-1)\n",
        "bitcoin.dropna(inplace=True)"
      ],
      "metadata": {
        "id": "YW8fL_w5KG0t"
      },
      "execution_count": null,
      "outputs": []
    },
    {
      "cell_type": "markdown",
      "source": [
        "Предсказываем цену на завтра. Т.е. клоуз сдвинутый на 1"
      ],
      "metadata": {
        "id": "4IQ6Yip4K8CB"
      }
    },
    {
      "cell_type": "code",
      "source": [
        "bitcoin.head()"
      ],
      "metadata": {
        "colab": {
          "base_uri": "https://localhost:8080/",
          "height": 235
        },
        "id": "n8Y3cuPFKVsc",
        "outputId": "64b3658d-f8d9-48a5-b77d-a2febd455b03"
      },
      "execution_count": null,
      "outputs": [
        {
          "output_type": "execute_result",
          "data": {
            "text/plain": [
              "      open    high     low   close   Volume USD  Volume BTC  open_close_dif  \\\n",
              "14  236.59  241.00  232.61  239.73   5666261.84    23893.09           -3.14   \n",
              "15  239.73  240.99  236.70  239.68   4013461.44    16784.31            0.05   \n",
              "16  239.68  240.83  235.53  238.00   3230232.16    13574.50            1.68   \n",
              "17  238.00  238.34  233.62  237.00   4418655.89    18691.43            1.00   \n",
              "18  237.00  262.80  236.64  256.40  17536633.13    69269.58          -19.40   \n",
              "\n",
              "    high_low_dif  open_to_high  high_mean_7d  ...  close_2d  close_3d  \\\n",
              "14          8.39     -0.374255    246.118571  ...    245.10    245.53   \n",
              "15          4.29      0.011655    245.740000  ...    236.59    245.10   \n",
              "16          5.30      0.316981    244.984286  ...    239.73    236.59   \n",
              "17          4.72      0.211864    244.390000  ...    239.68    239.73   \n",
              "18         26.16     -0.741590    243.664286  ...    238.00    239.68   \n",
              "\n",
              "    close_4d  close_5d  close_6d  close_7d  year  month  day_of_week  target  \n",
              "14    241.90    234.80    242.87    236.78  2015      2            0  239.68  \n",
              "15    245.53    241.90    234.80    242.87  2015      2            1  238.00  \n",
              "16    245.10    245.53    241.90    234.80  2015      2            2  237.00  \n",
              "17    236.59    245.10    245.53    241.90  2015      2            3  256.40  \n",
              "18    239.73    236.59    245.10    245.53  2015      2            4  255.77  \n",
              "\n",
              "[5 rows x 23 columns]"
            ],
            "text/html": [
              "\n",
              "  <div id=\"df-52e34e47-6c48-4221-aa6c-a81258de5f3c\">\n",
              "    <div class=\"colab-df-container\">\n",
              "      <div>\n",
              "<style scoped>\n",
              "    .dataframe tbody tr th:only-of-type {\n",
              "        vertical-align: middle;\n",
              "    }\n",
              "\n",
              "    .dataframe tbody tr th {\n",
              "        vertical-align: top;\n",
              "    }\n",
              "\n",
              "    .dataframe thead th {\n",
              "        text-align: right;\n",
              "    }\n",
              "</style>\n",
              "<table border=\"1\" class=\"dataframe\">\n",
              "  <thead>\n",
              "    <tr style=\"text-align: right;\">\n",
              "      <th></th>\n",
              "      <th>open</th>\n",
              "      <th>high</th>\n",
              "      <th>low</th>\n",
              "      <th>close</th>\n",
              "      <th>Volume USD</th>\n",
              "      <th>Volume BTC</th>\n",
              "      <th>open_close_dif</th>\n",
              "      <th>high_low_dif</th>\n",
              "      <th>open_to_high</th>\n",
              "      <th>high_mean_7d</th>\n",
              "      <th>...</th>\n",
              "      <th>close_2d</th>\n",
              "      <th>close_3d</th>\n",
              "      <th>close_4d</th>\n",
              "      <th>close_5d</th>\n",
              "      <th>close_6d</th>\n",
              "      <th>close_7d</th>\n",
              "      <th>year</th>\n",
              "      <th>month</th>\n",
              "      <th>day_of_week</th>\n",
              "      <th>target</th>\n",
              "    </tr>\n",
              "  </thead>\n",
              "  <tbody>\n",
              "    <tr>\n",
              "      <th>14</th>\n",
              "      <td>236.59</td>\n",
              "      <td>241.00</td>\n",
              "      <td>232.61</td>\n",
              "      <td>239.73</td>\n",
              "      <td>5666261.84</td>\n",
              "      <td>23893.09</td>\n",
              "      <td>-3.14</td>\n",
              "      <td>8.39</td>\n",
              "      <td>-0.374255</td>\n",
              "      <td>246.118571</td>\n",
              "      <td>...</td>\n",
              "      <td>245.10</td>\n",
              "      <td>245.53</td>\n",
              "      <td>241.90</td>\n",
              "      <td>234.80</td>\n",
              "      <td>242.87</td>\n",
              "      <td>236.78</td>\n",
              "      <td>2015</td>\n",
              "      <td>2</td>\n",
              "      <td>0</td>\n",
              "      <td>239.68</td>\n",
              "    </tr>\n",
              "    <tr>\n",
              "      <th>15</th>\n",
              "      <td>239.73</td>\n",
              "      <td>240.99</td>\n",
              "      <td>236.70</td>\n",
              "      <td>239.68</td>\n",
              "      <td>4013461.44</td>\n",
              "      <td>16784.31</td>\n",
              "      <td>0.05</td>\n",
              "      <td>4.29</td>\n",
              "      <td>0.011655</td>\n",
              "      <td>245.740000</td>\n",
              "      <td>...</td>\n",
              "      <td>236.59</td>\n",
              "      <td>245.10</td>\n",
              "      <td>245.53</td>\n",
              "      <td>241.90</td>\n",
              "      <td>234.80</td>\n",
              "      <td>242.87</td>\n",
              "      <td>2015</td>\n",
              "      <td>2</td>\n",
              "      <td>1</td>\n",
              "      <td>238.00</td>\n",
              "    </tr>\n",
              "    <tr>\n",
              "      <th>16</th>\n",
              "      <td>239.68</td>\n",
              "      <td>240.83</td>\n",
              "      <td>235.53</td>\n",
              "      <td>238.00</td>\n",
              "      <td>3230232.16</td>\n",
              "      <td>13574.50</td>\n",
              "      <td>1.68</td>\n",
              "      <td>5.30</td>\n",
              "      <td>0.316981</td>\n",
              "      <td>244.984286</td>\n",
              "      <td>...</td>\n",
              "      <td>239.73</td>\n",
              "      <td>236.59</td>\n",
              "      <td>245.10</td>\n",
              "      <td>245.53</td>\n",
              "      <td>241.90</td>\n",
              "      <td>234.80</td>\n",
              "      <td>2015</td>\n",
              "      <td>2</td>\n",
              "      <td>2</td>\n",
              "      <td>237.00</td>\n",
              "    </tr>\n",
              "    <tr>\n",
              "      <th>17</th>\n",
              "      <td>238.00</td>\n",
              "      <td>238.34</td>\n",
              "      <td>233.62</td>\n",
              "      <td>237.00</td>\n",
              "      <td>4418655.89</td>\n",
              "      <td>18691.43</td>\n",
              "      <td>1.00</td>\n",
              "      <td>4.72</td>\n",
              "      <td>0.211864</td>\n",
              "      <td>244.390000</td>\n",
              "      <td>...</td>\n",
              "      <td>239.68</td>\n",
              "      <td>239.73</td>\n",
              "      <td>236.59</td>\n",
              "      <td>245.10</td>\n",
              "      <td>245.53</td>\n",
              "      <td>241.90</td>\n",
              "      <td>2015</td>\n",
              "      <td>2</td>\n",
              "      <td>3</td>\n",
              "      <td>256.40</td>\n",
              "    </tr>\n",
              "    <tr>\n",
              "      <th>18</th>\n",
              "      <td>237.00</td>\n",
              "      <td>262.80</td>\n",
              "      <td>236.64</td>\n",
              "      <td>256.40</td>\n",
              "      <td>17536633.13</td>\n",
              "      <td>69269.58</td>\n",
              "      <td>-19.40</td>\n",
              "      <td>26.16</td>\n",
              "      <td>-0.741590</td>\n",
              "      <td>243.664286</td>\n",
              "      <td>...</td>\n",
              "      <td>238.00</td>\n",
              "      <td>239.68</td>\n",
              "      <td>239.73</td>\n",
              "      <td>236.59</td>\n",
              "      <td>245.10</td>\n",
              "      <td>245.53</td>\n",
              "      <td>2015</td>\n",
              "      <td>2</td>\n",
              "      <td>4</td>\n",
              "      <td>255.77</td>\n",
              "    </tr>\n",
              "  </tbody>\n",
              "</table>\n",
              "<p>5 rows × 23 columns</p>\n",
              "</div>\n",
              "      <button class=\"colab-df-convert\" onclick=\"convertToInteractive('df-52e34e47-6c48-4221-aa6c-a81258de5f3c')\"\n",
              "              title=\"Convert this dataframe to an interactive table.\"\n",
              "              style=\"display:none;\">\n",
              "        \n",
              "  <svg xmlns=\"http://www.w3.org/2000/svg\" height=\"24px\"viewBox=\"0 0 24 24\"\n",
              "       width=\"24px\">\n",
              "    <path d=\"M0 0h24v24H0V0z\" fill=\"none\"/>\n",
              "    <path d=\"M18.56 5.44l.94 2.06.94-2.06 2.06-.94-2.06-.94-.94-2.06-.94 2.06-2.06.94zm-11 1L8.5 8.5l.94-2.06 2.06-.94-2.06-.94L8.5 2.5l-.94 2.06-2.06.94zm10 10l.94 2.06.94-2.06 2.06-.94-2.06-.94-.94-2.06-.94 2.06-2.06.94z\"/><path d=\"M17.41 7.96l-1.37-1.37c-.4-.4-.92-.59-1.43-.59-.52 0-1.04.2-1.43.59L10.3 9.45l-7.72 7.72c-.78.78-.78 2.05 0 2.83L4 21.41c.39.39.9.59 1.41.59.51 0 1.02-.2 1.41-.59l7.78-7.78 2.81-2.81c.8-.78.8-2.07 0-2.86zM5.41 20L4 18.59l7.72-7.72 1.47 1.35L5.41 20z\"/>\n",
              "  </svg>\n",
              "      </button>\n",
              "      \n",
              "  <style>\n",
              "    .colab-df-container {\n",
              "      display:flex;\n",
              "      flex-wrap:wrap;\n",
              "      gap: 12px;\n",
              "    }\n",
              "\n",
              "    .colab-df-convert {\n",
              "      background-color: #E8F0FE;\n",
              "      border: none;\n",
              "      border-radius: 50%;\n",
              "      cursor: pointer;\n",
              "      display: none;\n",
              "      fill: #1967D2;\n",
              "      height: 32px;\n",
              "      padding: 0 0 0 0;\n",
              "      width: 32px;\n",
              "    }\n",
              "\n",
              "    .colab-df-convert:hover {\n",
              "      background-color: #E2EBFA;\n",
              "      box-shadow: 0px 1px 2px rgba(60, 64, 67, 0.3), 0px 1px 3px 1px rgba(60, 64, 67, 0.15);\n",
              "      fill: #174EA6;\n",
              "    }\n",
              "\n",
              "    [theme=dark] .colab-df-convert {\n",
              "      background-color: #3B4455;\n",
              "      fill: #D2E3FC;\n",
              "    }\n",
              "\n",
              "    [theme=dark] .colab-df-convert:hover {\n",
              "      background-color: #434B5C;\n",
              "      box-shadow: 0px 1px 3px 1px rgba(0, 0, 0, 0.15);\n",
              "      filter: drop-shadow(0px 1px 2px rgba(0, 0, 0, 0.3));\n",
              "      fill: #FFFFFF;\n",
              "    }\n",
              "  </style>\n",
              "\n",
              "      <script>\n",
              "        const buttonEl =\n",
              "          document.querySelector('#df-52e34e47-6c48-4221-aa6c-a81258de5f3c button.colab-df-convert');\n",
              "        buttonEl.style.display =\n",
              "          google.colab.kernel.accessAllowed ? 'block' : 'none';\n",
              "\n",
              "        async function convertToInteractive(key) {\n",
              "          const element = document.querySelector('#df-52e34e47-6c48-4221-aa6c-a81258de5f3c');\n",
              "          const dataTable =\n",
              "            await google.colab.kernel.invokeFunction('convertToInteractive',\n",
              "                                                     [key], {});\n",
              "          if (!dataTable) return;\n",
              "\n",
              "          const docLinkHtml = 'Like what you see? Visit the ' +\n",
              "            '<a target=\"_blank\" href=https://colab.research.google.com/notebooks/data_table.ipynb>data table notebook</a>'\n",
              "            + ' to learn more about interactive tables.';\n",
              "          element.innerHTML = '';\n",
              "          dataTable['output_type'] = 'display_data';\n",
              "          await google.colab.output.renderOutput(dataTable, element);\n",
              "          const docLink = document.createElement('div');\n",
              "          docLink.innerHTML = docLinkHtml;\n",
              "          element.appendChild(docLink);\n",
              "        }\n",
              "      </script>\n",
              "    </div>\n",
              "  </div>\n",
              "  "
            ]
          },
          "metadata": {},
          "execution_count": 116
        }
      ]
    },
    {
      "cell_type": "code",
      "source": [
        "y = bitcoin.target\n",
        "X = bitcoin.drop('target', axis=1)"
      ],
      "metadata": {
        "id": "FOTNaYgeLFgO"
      },
      "execution_count": null,
      "outputs": []
    },
    {
      "cell_type": "code",
      "source": [
        "\n",
        "\n",
        "from sklearn.model_selection  import train_test_split\n",
        "\n",
        "X_train, X_test, y_train, y_test = train_test_split(X, y, test_size = 0.33)"
      ],
      "metadata": {
        "id": "7BGzCwhMLZx_"
      },
      "execution_count": null,
      "outputs": []
    },
    {
      "cell_type": "code",
      "source": [
        "from sklearn.ensemble import RandomForestRegressor\n",
        "from sklearn.metrics import mean_absolute_error\n",
        "\n",
        "model = RandomForestRegressor() #создаём\n",
        "model.fit(X_train, y_train) #обучаем"
      ],
      "metadata": {
        "colab": {
          "base_uri": "https://localhost:8080/"
        },
        "id": "pDs_HFcrNIZ1",
        "outputId": "349e0093-9eaf-4691-a3fa-c920e5ec4323"
      },
      "execution_count": null,
      "outputs": [
        {
          "output_type": "execute_result",
          "data": {
            "text/plain": [
              "RandomForestRegressor()"
            ]
          },
          "metadata": {},
          "execution_count": 119
        }
      ]
    },
    {
      "cell_type": "code",
      "source": [
        "\n",
        "#экзамен\n",
        "y_pred = model.predict(X_test) # просим модель сделать предсказание для икс_тест\n",
        "print('MAe')\n",
        "mean_absolute_error(y_pred, y_test)"
      ],
      "metadata": {
        "colab": {
          "base_uri": "https://localhost:8080/"
        },
        "id": "MPGAvozUOUmp",
        "outputId": "0c08d4a1-e875-402f-a5de-1aa0edd73138"
      },
      "execution_count": null,
      "outputs": [
        {
          "output_type": "execute_result",
          "data": {
            "text/plain": [
              "245.81896033886196"
            ]
          },
          "metadata": {},
          "execution_count": 122
        }
      ]
    },
    {
      "cell_type": "code",
      "source": [
        "from sklearn.metrics import max_error\n",
        "print('Max')\n",
        "max_error(y_pred, y_test)"
      ],
      "metadata": {
        "colab": {
          "base_uri": "https://localhost:8080/"
        },
        "id": "AAdOltjtP54O",
        "outputId": "7d0eeb78-b22c-40e5-df7d-c66c93e0b30f"
      },
      "execution_count": null,
      "outputs": [
        {
          "output_type": "stream",
          "name": "stdout",
          "text": [
            "Max\n"
          ]
        },
        {
          "output_type": "execute_result",
          "data": {
            "text/plain": [
              "5263.982365498101"
            ]
          },
          "metadata": {},
          "execution_count": 133
        }
      ]
    },
    {
      "cell_type": "code",
      "source": [
        "from sklearn.metrics import r2_score\n",
        "print('R2_score')\n",
        "r2_score(y_pred, y_test)"
      ],
      "metadata": {
        "colab": {
          "base_uri": "https://localhost:8080/"
        },
        "id": "4vTvkKw-QNYc",
        "outputId": "bcea36fb-f2fd-411d-f39a-d565ce253ea2"
      },
      "execution_count": null,
      "outputs": [
        {
          "output_type": "stream",
          "name": "stdout",
          "text": [
            "R2_score\n"
          ]
        },
        {
          "output_type": "execute_result",
          "data": {
            "text/plain": [
              "0.9973437656877987"
            ]
          },
          "metadata": {},
          "execution_count": 132
        }
      ]
    },
    {
      "cell_type": "code",
      "source": [
        "model.score(X_train, y_train)\n",
        "model.score(X_test, y_test)"
      ],
      "metadata": {
        "colab": {
          "base_uri": "https://localhost:8080/"
        },
        "id": "UooNVgWrO2tz",
        "outputId": "25d0b9d6-393c-451b-c4a8-089a015276c7"
      },
      "execution_count": null,
      "outputs": [
        {
          "output_type": "execute_result",
          "data": {
            "text/plain": [
              "0.9973288270560406"
            ]
          },
          "metadata": {},
          "execution_count": 131
        }
      ]
    },
    {
      "cell_type": "code",
      "source": [
        "from sklearn.ensemble import RandomForestRegressor\n",
        "from sklearn.metrics import mean_absolute_error\n",
        "\n",
        "model = RandomForestRegressor(n_estimators=200) #создаём\n",
        "model.fit(X_train, y_train) #обучаем\n",
        "y_pred = model.predict(X_test) # просим модель сделать предсказание для икс_тест\n",
        "print('MAE')\n",
        "mean_absolute_error(y_pred, y_test)"
      ],
      "metadata": {
        "colab": {
          "base_uri": "https://localhost:8080/"
        },
        "id": "9WVht7O7QwOW",
        "outputId": "478844e5-447e-4675-c1f2-f5cbf19529d9"
      },
      "execution_count": null,
      "outputs": [
        {
          "output_type": "stream",
          "name": "stdout",
          "text": [
            "MAE\n"
          ]
        },
        {
          "output_type": "execute_result",
          "data": {
            "text/plain": [
              "244.9378660033307"
            ]
          },
          "metadata": {},
          "execution_count": 136
        }
      ]
    }
  ]
}